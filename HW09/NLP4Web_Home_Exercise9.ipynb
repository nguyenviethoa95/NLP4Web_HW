{
 "cells": [
  {
   "cell_type": "markdown",
   "metadata": {},
   "source": [
    "# NLP and the Web: Home Exercise 9"
   ]
  },
  {
   "cell_type": "markdown",
   "metadata": {},
   "source": [
    "This homework exercise is about the PageRank algortithm. You will reimplement and execute this algorithm.\n",
    "\n",
    "## About the data\n",
    "\n",
    "The data comes in `.csv` format and contains links for links between 15 web pages (only ids). Each row represents one link and contains two columns. The link points from the webpage with the id of `source` to the webage with the id `destination`.\n"
   ]
  },
  {
   "cell_type": "code",
   "execution_count": 9,
   "metadata": {},
   "outputs": [],
   "source": [
    "# Imports\n",
    "import pandas as pd\n",
    "import numpy as np\n",
    "import collections, random\n",
    "import seaborn as sns\n",
    "sns.set()\n",
    "\n",
    "\n",
    "def print_matrix(matrix):\n",
    "    string_values = [[str(round(e,2)) for e in row] for row in matrix]\n",
    "    lens = [max(map(len, col)) for col in zip(*string_values)]\n",
    "    fmt = ' '.join('{{:{}}}'.format(x) for x in lens)\n",
    "    print('\\n'.join([fmt.format(*row) for row in string_values]))"
   ]
  },
  {
   "cell_type": "code",
   "execution_count": 10,
   "metadata": {},
   "outputs": [
    {
     "name": "stdout",
     "output_type": "stream",
     "text": [
      "1.23 5.68 9.0 \n",
      "1.0  2.0  3.0 \n",
      "2.22 3.33 4.44\n"
     ]
    }
   ],
   "source": [
    "# Whenever you are asked to output a matrix, use this function, e.g.:\n",
    "matrix = np.array([[1.234, 5.678, 9.0], [1,2,3], [2.222, 3.333, 4.444]])\n",
    "print_matrix(matrix)"
   ]
  },
  {
   "cell_type": "markdown",
   "metadata": {},
   "source": [
    "## Task 1: Compute matrizes (6 Points)\n",
    "**a)** Load the data and compute the link matrix $m$. The value of $m_{i,j}=0$ if no link from $i$ to $j$ exists and $m_{i,j}=1$ if such a link exists. Implement the function `compute_link_matrix` and execute it on the loaded data. You have to compute the pages from the given data. Do assume web pages 0-14 (from task description) in a hard coded way. Output the resulting link matrix using `print_matrix()`. "
   ]
  },
  {
   "cell_type": "code",
   "execution_count": 11,
   "metadata": {},
   "outputs": [],
   "source": [
    "def compute_link_matrix(data):\n",
    "    \"\"\"\n",
    "    Computes the link matrix based on the definition stated above.\n",
    "    :param data\n",
    "        Loaded links. Use this data to programatically find the webpages.\n",
    "    \"\"\"\n",
    "    result = np.zeros((15, 15))\n",
    "    for i, row in data.iterrows():\n",
    "        result[row[0]-1,row[1]-1]=1   \n",
    "    return result"
   ]
  },
  {
   "cell_type": "code",
   "execution_count": 12,
   "metadata": {},
   "outputs": [
    {
     "name": "stdout",
     "output_type": "stream",
     "text": [
      "0.0 0.0 0.0 1.0 0.0 0.0 0.0 0.0 0.0 0.0 0.0 0.0 1.0 0.0 0.0\n",
      "0.0 0.0 0.0 0.0 0.0 0.0 1.0 0.0 0.0 0.0 0.0 0.0 1.0 0.0 0.0\n",
      "0.0 0.0 0.0 0.0 1.0 1.0 0.0 1.0 1.0 0.0 0.0 0.0 0.0 0.0 0.0\n",
      "1.0 1.0 1.0 0.0 1.0 0.0 1.0 0.0 0.0 0.0 0.0 0.0 0.0 0.0 0.0\n",
      "0.0 0.0 1.0 1.0 0.0 1.0 0.0 1.0 0.0 1.0 0.0 0.0 0.0 0.0 0.0\n",
      "1.0 0.0 0.0 0.0 0.0 0.0 0.0 0.0 0.0 0.0 0.0 0.0 0.0 0.0 0.0\n",
      "1.0 1.0 1.0 0.0 1.0 1.0 0.0 0.0 0.0 0.0 1.0 0.0 1.0 0.0 0.0\n",
      "0.0 0.0 0.0 0.0 0.0 0.0 0.0 0.0 0.0 0.0 0.0 0.0 0.0 0.0 0.0\n",
      "0.0 1.0 1.0 0.0 0.0 1.0 0.0 0.0 0.0 0.0 0.0 0.0 0.0 0.0 0.0\n",
      "0.0 0.0 0.0 1.0 0.0 1.0 1.0 0.0 0.0 0.0 0.0 1.0 1.0 0.0 0.0\n",
      "0.0 1.0 0.0 0.0 0.0 1.0 1.0 1.0 1.0 0.0 0.0 0.0 1.0 0.0 0.0\n",
      "0.0 0.0 0.0 0.0 0.0 0.0 0.0 1.0 0.0 0.0 0.0 0.0 0.0 0.0 0.0\n",
      "0.0 0.0 0.0 0.0 0.0 1.0 1.0 0.0 1.0 0.0 0.0 0.0 0.0 1.0 0.0\n",
      "0.0 0.0 0.0 0.0 1.0 0.0 0.0 1.0 1.0 0.0 0.0 1.0 0.0 0.0 0.0\n",
      "0.0 0.0 1.0 0.0 0.0 1.0 1.0 0.0 0.0 0.0 0.0 1.0 0.0 0.0 0.0\n"
     ]
    }
   ],
   "source": [
    "df = pd.read_csv(\"page_links.csv\")\n",
    "links_matrix = compute_link_matrix(df)\n",
    "print_matrix(links_matrix)"
   ]
  },
  {
   "cell_type": "markdown",
   "metadata": {},
   "source": [
    "**b)** Compute link probability matrix based on the link matrix. Each $m_{i,j}$ should be the probability that a person reaches the webpage $j$ when clicking on a random link on webpage $i$ (see slide 48 of the lecture 07). $m_{i,j}=0$ if no link from $i$ to $j$ exists. Implement the function `compute_link_probability_matrix`, execute it on the link matrix. Output the resulting matrix using `print_matrix()`. "
   ]
  },
  {
   "cell_type": "code",
   "execution_count": 13,
   "metadata": {},
   "outputs": [],
   "source": [
    "def compute_link_probability_matrix(link_matrix):\n",
    "    result = link_matrix\n",
    "    for i in range(0,15):   \n",
    "        num_outlinks = np.sum(links_matrix[i])\n",
    "        result[i] = np.where(result[i] == 1, 1/num_outlinks, result[i])\n",
    "    return result"
   ]
  },
  {
   "cell_type": "code",
   "execution_count": 14,
   "metadata": {},
   "outputs": [
    {
     "name": "stdout",
     "output_type": "stream",
     "text": [
      "0.0  0.0  0.0  0.5 0.0  0.0  0.0  0.0  0.0  0.0 0.0  0.0  0.5  0.0  0.0\n",
      "0.0  0.0  0.0  0.0 0.0  0.0  0.5  0.0  0.0  0.0 0.0  0.0  0.5  0.0  0.0\n",
      "0.0  0.0  0.0  0.0 0.25 0.25 0.0  0.25 0.25 0.0 0.0  0.0  0.0  0.0  0.0\n",
      "0.2  0.2  0.2  0.0 0.2  0.0  0.2  0.0  0.0  0.0 0.0  0.0  0.0  0.0  0.0\n",
      "0.0  0.0  0.2  0.2 0.0  0.2  0.0  0.2  0.0  0.2 0.0  0.0  0.0  0.0  0.0\n",
      "1.0  0.0  0.0  0.0 0.0  0.0  0.0  0.0  0.0  0.0 0.0  0.0  0.0  0.0  0.0\n",
      "0.14 0.14 0.14 0.0 0.14 0.14 0.0  0.0  0.0  0.0 0.14 0.0  0.14 0.0  0.0\n",
      "0.0  0.0  0.0  0.0 0.0  0.0  0.0  0.0  0.0  0.0 0.0  0.0  0.0  0.0  0.0\n",
      "0.0  0.33 0.33 0.0 0.0  0.33 0.0  0.0  0.0  0.0 0.0  0.0  0.0  0.0  0.0\n",
      "0.0  0.0  0.0  0.2 0.0  0.2  0.2  0.0  0.0  0.0 0.0  0.2  0.2  0.0  0.0\n",
      "0.0  0.17 0.0  0.0 0.0  0.17 0.17 0.17 0.17 0.0 0.0  0.0  0.17 0.0  0.0\n",
      "0.0  0.0  0.0  0.0 0.0  0.0  0.0  1.0  0.0  0.0 0.0  0.0  0.0  0.0  0.0\n",
      "0.0  0.0  0.0  0.0 0.0  0.25 0.25 0.0  0.25 0.0 0.0  0.0  0.0  0.25 0.0\n",
      "0.0  0.0  0.0  0.0 0.25 0.0  0.0  0.25 0.25 0.0 0.0  0.25 0.0  0.0  0.0\n",
      "0.0  0.0  0.25 0.0 0.0  0.25 0.25 0.0  0.0  0.0 0.0  0.25 0.0  0.0  0.0\n"
     ]
    },
    {
     "name": "stderr",
     "output_type": "stream",
     "text": [
      "c:\\users\\nguyen\\pycharmprojects\\nlp4web\\venv\\lib\\site-packages\\ipykernel_launcher.py:5: RuntimeWarning: divide by zero encountered in double_scalars\n",
      "  \"\"\"\n"
     ]
    }
   ],
   "source": [
    "link_prob_matrix = compute_link_probability_matrix(links_matrix)\n",
    "print_matrix(link_prob_matrix)"
   ]
  },
  {
   "cell_type": "markdown",
   "metadata": {},
   "source": [
    "**c)** Implement the function `compute_teleport_matrix`. Teleporting from one webpage to any webpage has the same probability. Infer the right value for `page_count` dynamically, i.e. either based on the data itself, or on the results of 1a) or 1b). Do not use hard coded 15 from the task description. Execute the function and output the resulting teleport matrix using `print_matrix()`."
   ]
  },
  {
   "cell_type": "code",
   "execution_count": 15,
   "metadata": {},
   "outputs": [],
   "source": [
    "def compute_teleport_matrix(num_pages):\n",
    "    result = np.full((num_pages,num_pages), 1/num_pages)\n",
    "    return np.round(result, 3)"
   ]
  },
  {
   "cell_type": "code",
   "execution_count": 16,
   "metadata": {},
   "outputs": [
    {
     "name": "stdout",
     "output_type": "stream",
     "text": [
      "0.07 0.07 0.07 0.07 0.07 0.07 0.07 0.07 0.07 0.07 0.07 0.07 0.07 0.07 0.07\n",
      "0.07 0.07 0.07 0.07 0.07 0.07 0.07 0.07 0.07 0.07 0.07 0.07 0.07 0.07 0.07\n",
      "0.07 0.07 0.07 0.07 0.07 0.07 0.07 0.07 0.07 0.07 0.07 0.07 0.07 0.07 0.07\n",
      "0.07 0.07 0.07 0.07 0.07 0.07 0.07 0.07 0.07 0.07 0.07 0.07 0.07 0.07 0.07\n",
      "0.07 0.07 0.07 0.07 0.07 0.07 0.07 0.07 0.07 0.07 0.07 0.07 0.07 0.07 0.07\n",
      "0.07 0.07 0.07 0.07 0.07 0.07 0.07 0.07 0.07 0.07 0.07 0.07 0.07 0.07 0.07\n",
      "0.07 0.07 0.07 0.07 0.07 0.07 0.07 0.07 0.07 0.07 0.07 0.07 0.07 0.07 0.07\n",
      "0.07 0.07 0.07 0.07 0.07 0.07 0.07 0.07 0.07 0.07 0.07 0.07 0.07 0.07 0.07\n",
      "0.07 0.07 0.07 0.07 0.07 0.07 0.07 0.07 0.07 0.07 0.07 0.07 0.07 0.07 0.07\n",
      "0.07 0.07 0.07 0.07 0.07 0.07 0.07 0.07 0.07 0.07 0.07 0.07 0.07 0.07 0.07\n",
      "0.07 0.07 0.07 0.07 0.07 0.07 0.07 0.07 0.07 0.07 0.07 0.07 0.07 0.07 0.07\n",
      "0.07 0.07 0.07 0.07 0.07 0.07 0.07 0.07 0.07 0.07 0.07 0.07 0.07 0.07 0.07\n",
      "0.07 0.07 0.07 0.07 0.07 0.07 0.07 0.07 0.07 0.07 0.07 0.07 0.07 0.07 0.07\n",
      "0.07 0.07 0.07 0.07 0.07 0.07 0.07 0.07 0.07 0.07 0.07 0.07 0.07 0.07 0.07\n",
      "0.07 0.07 0.07 0.07 0.07 0.07 0.07 0.07 0.07 0.07 0.07 0.07 0.07 0.07 0.07\n"
     ]
    }
   ],
   "source": [
    "teleport_matrix = compute_teleport_matrix(15)\n",
    "print_matrix(teleport_matrix)"
   ]
  },
  {
   "cell_type": "markdown",
   "metadata": {},
   "source": [
    "**d)** Implement the function `compute_transition_matrix`. As arguments it takes the teleport matrix and the link probabilities from tasks 1c) and 1b), and the teleporting probability, indicating how likely a teleporting event is. Execute the function with the matrices from 1c) and 1b) and a teleporting probability of $0.1$. Output the resulting transition matrix using `print_matrix()`."
   ]
  },
  {
   "cell_type": "code",
   "execution_count": 17,
   "metadata": {},
   "outputs": [],
   "source": [
    "def compute_transition_matrix(teleport_matrix, link_probability_matrix, teleporting_probability=0.1):\n",
    "    \"\"\"\n",
    "    Compute the transition matrix based on the teleport matrix and the link matrix\n",
    "    :param teleport_matrix\n",
    "        As computed in 1d)\n",
    "    :param link_probability_matrix\n",
    "        As computed in 1c)\n",
    "    :param teleport_probability\n",
    "        Probability that a page is reached via teleport (float)\n",
    "    \"\"\"\n",
    "    teleport_matrix = teleport_matrix*teleporting_probability\n",
    "    link_probability_matrix= link_probability_matrix*(1-teleporting_probability)\n",
    "    result = teleport_matrix+link_probability_matrix\n",
    "    return result "
   ]
  },
  {
   "cell_type": "code",
   "execution_count": 18,
   "metadata": {},
   "outputs": [
    {
     "name": "stdout",
     "output_type": "stream",
     "text": [
      "0.01 0.01 0.01 0.46 0.01 0.01 0.01 0.01 0.01 0.01 0.01 0.01 0.46 0.01 0.01\n",
      "0.01 0.01 0.01 0.01 0.01 0.01 0.46 0.01 0.01 0.01 0.01 0.01 0.46 0.01 0.01\n",
      "0.01 0.01 0.01 0.01 0.23 0.23 0.01 0.23 0.23 0.01 0.01 0.01 0.01 0.01 0.01\n",
      "0.19 0.19 0.19 0.01 0.19 0.01 0.19 0.01 0.01 0.01 0.01 0.01 0.01 0.01 0.01\n",
      "0.01 0.01 0.19 0.19 0.01 0.19 0.01 0.19 0.01 0.19 0.01 0.01 0.01 0.01 0.01\n",
      "0.91 0.01 0.01 0.01 0.01 0.01 0.01 0.01 0.01 0.01 0.01 0.01 0.01 0.01 0.01\n",
      "0.14 0.14 0.14 0.01 0.14 0.14 0.01 0.01 0.01 0.01 0.14 0.01 0.14 0.01 0.01\n",
      "0.01 0.01 0.01 0.01 0.01 0.01 0.01 0.01 0.01 0.01 0.01 0.01 0.01 0.01 0.01\n",
      "0.01 0.31 0.31 0.01 0.01 0.31 0.01 0.01 0.01 0.01 0.01 0.01 0.01 0.01 0.01\n",
      "0.01 0.01 0.01 0.19 0.01 0.19 0.19 0.01 0.01 0.01 0.01 0.19 0.19 0.01 0.01\n",
      "0.01 0.16 0.01 0.01 0.01 0.16 0.16 0.16 0.16 0.01 0.01 0.01 0.16 0.01 0.01\n",
      "0.01 0.01 0.01 0.01 0.01 0.01 0.01 0.91 0.01 0.01 0.01 0.01 0.01 0.01 0.01\n",
      "0.01 0.01 0.01 0.01 0.01 0.23 0.23 0.01 0.23 0.01 0.01 0.01 0.01 0.23 0.01\n",
      "0.01 0.01 0.01 0.01 0.23 0.01 0.01 0.23 0.23 0.01 0.01 0.23 0.01 0.01 0.01\n",
      "0.01 0.01 0.23 0.01 0.01 0.23 0.23 0.01 0.01 0.01 0.01 0.23 0.01 0.01 0.01\n"
     ]
    }
   ],
   "source": [
    "transition_matrix=compute_transition_matrix(teleport_matrix,link_prob_matrix)\n",
    "print_matrix(transition_matrix)"
   ]
  },
  {
   "cell_type": "markdown",
   "metadata": {},
   "source": [
    "## Task 2: Random Walk (9 Points)\n",
    "**a)** Implement the function `get_next_page`. Given a current page (id) and the transition matrix (from 1e), it must sample the next webpage based on the probabilities in the transition matrix. To make sure it works as expected, call the function 1000 times, always with `current_page=0` and count which page is selected how many times (this is already implemented for you)."
   ]
  },
  {
   "cell_type": "code",
   "execution_count": 19,
   "metadata": {},
   "outputs": [
    {
     "name": "stdout",
     "output_type": "stream",
     "text": [
      "Page 12 was selected 474 times.\n",
      "Page 3 was selected 429 times.\n",
      "Page 6 was selected 11 times.\n",
      "Page 9 was selected 11 times.\n",
      "Page 13 was selected 9 times.\n",
      "Page 11 was selected 9 times.\n",
      "Page 0 was selected 7 times.\n",
      "Page 8 was selected 7 times.\n",
      "Page 5 was selected 7 times.\n",
      "Page 7 was selected 7 times.\n",
      "Page 2 was selected 7 times.\n",
      "Page 10 was selected 6 times.\n",
      "Page 4 was selected 6 times.\n",
      "Page 1 was selected 5 times.\n",
      "Page 14 was selected 5 times.\n"
     ]
    }
   ],
   "source": [
    "random.seed(1)\n",
    "np.random.seed(1)\n",
    "\n",
    "def get_next_page(current_page, transition_matrix):\n",
    "    \"\"\"\n",
    "    Randomly selects, based on the probabilities of the transition matrix and the current page, the next page.\n",
    "    :param current_page\n",
    "        Index of the current page (integer)\n",
    "    :param transition_matrix\n",
    "        Transition matrix from 1d)\n",
    "        \n",
    "    :returns\n",
    "        The index (integer) of the next webpage.\n",
    "    \"\"\"\n",
    "    # list of pages that are successor of the current page\n",
    "    idx_next_page = random.choices(list(range(0,15)),weights=transition_matrix[current_page],k=1)\n",
    "    return idx_next_page[0]\n",
    "\n",
    "# This part is already implemented for you. Just make sure it runs. \n",
    "for page, count in collections.Counter([get_next_page(0, transition_matrix) for i in range(1000)]).most_common():\n",
    "    print(f'Page {page} was selected {count} times.')"
   ]
  },
  {
   "cell_type": "markdown",
   "metadata": {},
   "source": [
    "**b)** Implement the function `random_walk`. It should take the following parameters:\n",
    "* `transition_matrix` as computed in 1d)\n",
    "* `eval_steps` is an integer value. After walking for this amount of steps, the weights for each webpage should be computed\n",
    "* `epsilon` is a floating point value. It determines when the random walk should stop. \n",
    "\n",
    "The function should perform the random walk, starting from a randomly selected webpage. For each step, it should select the next webpage based on the transition matrix (use the function from 2a)).\n",
    "\n",
    "During this process, the function should in certain intervals (defined by `eval_steps`) compute the normalized weights for each webpage, and check if the algoritm must continue or has sufficiently converged (defined by `epsilon`). The function must output all these computed weights for all webpages as a dataframe (or similar):\n",
    "\n",
    "**Before step 1 and every `eval_step` steps:** \n",
    "\n",
    "* Compute the weights $w_i$ for all webpages $i \\in D$\n",
    "* Add for each webpage the computed weight and the processed steps to the output dataframe (or similar). See the example dataframe below (assuming three webapges):\n",
    "    * *Before step 1* the first three rows are added\n",
    "    * *After 20 steps* the next three rows are added\n",
    "    * *After 40 steps* ...\n",
    "\n",
    "The normalized weight $w_i$ for each webpage $i$ is computed as\n",
    "\n",
    "$\\Large w_i = \\frac{c_i}{\\sum_{j=0}^{|D|}c_j}$\n",
    "\n",
    "whereas $D$ represents the set of all documents and $c_j$ is the count how often the webpage $j$ has been visited (How many times was webpage $i$ visited divided by the number of all visits to all webpages).\n",
    "\n",
    "* create a vector $r^k=[w_i | i \\in |D|]$, consisting of the current weights for each webpage, whereas $k=0$ before step 1, $k=1$ after `eval_step` steps, $k=2$ after 2 $\\times$ `eval_step` steps, ...\n",
    "* To stop the algorithm when it has sufficiently converged we check the eucledian distance between the current computation of weights and the previous computation of weights. The algorithm terminates, once the weights did  not change much, i.e. once the distance is smaller than `epsilon`:\n",
    "\n",
    "$|r^k - r^{k-1}| < \\epsilon$\n",
    "\n",
    "An implementation of the distance function is implemented for you. For $k=0$ (i.e. before step 1), initialize all weights $w_i$ in $r^0$ equally, i.e. $w_i=\\frac{1}{|D|}$ for all $i \\in D$\n",
    "\n",
    "\n",
    "Execute the function with the transition matrix from 1d), `eval_steps=20` and `epsilon=0.001`.\n",
    "\n",
    "**Example output (for three documents):**"
   ]
  },
  {
   "cell_type": "code",
   "execution_count": 20,
   "metadata": {},
   "outputs": [
    {
     "data": {
      "text/html": [
       "<div>\n",
       "<style scoped>\n",
       "    .dataframe tbody tr th:only-of-type {\n",
       "        vertical-align: middle;\n",
       "    }\n",
       "\n",
       "    .dataframe tbody tr th {\n",
       "        vertical-align: top;\n",
       "    }\n",
       "\n",
       "    .dataframe thead th {\n",
       "        text-align: right;\n",
       "    }\n",
       "</style>\n",
       "<table border=\"1\" class=\"dataframe\">\n",
       "  <thead>\n",
       "    <tr style=\"text-align: right;\">\n",
       "      <th></th>\n",
       "      <th>weight</th>\n",
       "      <th>step</th>\n",
       "      <th>page</th>\n",
       "    </tr>\n",
       "  </thead>\n",
       "  <tbody>\n",
       "    <tr>\n",
       "      <th>0</th>\n",
       "      <td>0.333333</td>\n",
       "      <td>0</td>\n",
       "      <td>0</td>\n",
       "    </tr>\n",
       "    <tr>\n",
       "      <th>1</th>\n",
       "      <td>0.333333</td>\n",
       "      <td>0</td>\n",
       "      <td>1</td>\n",
       "    </tr>\n",
       "    <tr>\n",
       "      <th>2</th>\n",
       "      <td>0.333333</td>\n",
       "      <td>0</td>\n",
       "      <td>2</td>\n",
       "    </tr>\n",
       "    <tr>\n",
       "      <th>3</th>\n",
       "      <td>0.600000</td>\n",
       "      <td>20</td>\n",
       "      <td>0</td>\n",
       "    </tr>\n",
       "    <tr>\n",
       "      <th>4</th>\n",
       "      <td>0.150000</td>\n",
       "      <td>20</td>\n",
       "      <td>1</td>\n",
       "    </tr>\n",
       "    <tr>\n",
       "      <th>5</th>\n",
       "      <td>0.250000</td>\n",
       "      <td>20</td>\n",
       "      <td>2</td>\n",
       "    </tr>\n",
       "  </tbody>\n",
       "</table>\n",
       "</div>"
      ],
      "text/plain": [
       "     weight  step  page\n",
       "0  0.333333     0     0\n",
       "1  0.333333     0     1\n",
       "2  0.333333     0     2\n",
       "3  0.600000    20     0\n",
       "4  0.150000    20     1\n",
       "5  0.250000    20     2"
      ]
     },
     "execution_count": 20,
     "metadata": {},
     "output_type": "execute_result"
    }
   ],
   "source": [
    "pd.DataFrame({\n",
    "    'weight': [1/3, 1/3, 1/3, 12/20, 3/20, 5/20], # Obviously much longer ...\n",
    "    'step': [0,0,0,20,20,20],\n",
    "    'page': [0,1,2,0,1,2]\n",
    "})"
   ]
  },
  {
   "cell_type": "code",
   "execution_count": 141,
   "metadata": {},
   "outputs": [],
   "source": [
    "random.seed(1)\n",
    "np.random.seed(1)\n",
    "\n",
    "def distance(vec1, vec2):\n",
    "    \"\"\"\n",
    "    Computes the eucledian distance between two vectors.\n",
    "    \"\"\"\n",
    "    return np.linalg.norm(vec1 - vec2)\n",
    "\n",
    "def random_walk(transition_matrix, eval_steps=20, epsilon=0.001):\n",
    "    seed = random.randint(0,14)\n",
    "    \n",
    "    # Initialze weight vector\n",
    "    vec1 = np.zeros(15) # previous vector\n",
    "    vec2 = np.zeros(15) # current vector \n",
    "    diff = 1\n",
    "    \n",
    "    # Initialze output dataframe\n",
    "    cols = [\"weight\",\"step\",\"page\"]\n",
    "    output = pd.DataFrame(columns=cols)\n",
    "    \n",
    "    # History of all visited pages \n",
    "    history = [seed]\n",
    "    \n",
    "    # Initialize step\n",
    "    step = 0\n",
    "    \n",
    "    # Start iterating \n",
    "    while diff - epsilon > 0 :\n",
    "        \n",
    "        # Initialize weight vector\n",
    "        page_weight_vec = np.zeros(15)\n",
    "        \n",
    "        # Iterating for 20 rounds\n",
    "        for i in range(0,20):         \n",
    "            nextpage = get_next_page(history[-1], transition_matrix) \n",
    "            history.append(nextpage)\n",
    "                            \n",
    "        # Calculate the weight vector \n",
    "        freq = collections.Counter(history).items()\n",
    "        for k,v in freq: \n",
    "            page_weight_vec[k] = v/len(history)\n",
    "        \n",
    "        # Update the result dataframe\n",
    "        eval_df = pd.DataFrame([page_weight_vec, np.full((15),step),list(range(0, 15))],index=cols).T\n",
    "        output = output.append(eval_df, ignore_index=True)\n",
    "        \n",
    "        # update the vector\n",
    "        vec1 = vec2\n",
    "        vec2 = page_weight_vec\n",
    "        diff = abs(distance(vec1, vec2))\n",
    "            \n",
    "        # update step \n",
    "        step = step + 20    \n",
    "        \n",
    "    return output"
   ]
  },
  {
   "cell_type": "code",
   "execution_count": 142,
   "metadata": {},
   "outputs": [],
   "source": [
    "history = random_walk(transition_matrix)"
   ]
  },
  {
   "cell_type": "markdown",
   "metadata": {},
   "source": [
    "**c)** Plot the results of 2b) using a `lineplot` of `seaborn`. Each webpage should be visualized via a separate line. The x-axis represents the steps, the y axis the normalized weight for each webpage. Print all webpages, based on their last weights, in their ranked order (highest ranked first)."
   ]
  },
  {
   "cell_type": "code",
   "execution_count": 143,
   "metadata": {},
   "outputs": [
    {
     "data": {
      "image/png": "[encoded data removed]",
      "text/plain": [
       "<Figure size 432x288 with 1 Axes>"
      ]
     },
     "metadata": {},
     "output_type": "display_data"
    }
   ],
   "source": [
    "import matplotlib.pyplot as plt \n",
    "\n",
    "grouped_df = history.groupby([\"page\"])\n",
    "for key,item in grouped_df:\n",
    "    plt.plot(item[\"step\"],item[\"weight\"])"
   ]
  },
  {
   "cell_type": "code",
   "execution_count": 145,
   "metadata": {},
   "outputs": [
    {
     "name": "stderr",
     "output_type": "stream",
     "text": [
      "c:\\users\\nguyen\\pycharmprojects\\nlp4web\\venv\\lib\\site-packages\\pandas\\core\\frame.py:4174: SettingWithCopyWarning: \n",
      "A value is trying to be set on a copy of a slice from a DataFrame\n",
      "\n",
      "See the caveats in the documentation: https://pandas.pydata.org/pandas-docs/stable/user_guide/indexing.html#returning-a-view-versus-a-copy\n",
      "  errors=errors,\n"
     ]
    },
    {
     "data": {
      "text/html": [
       "<div>\n",
       "<style scoped>\n",
       "    .dataframe tbody tr th:only-of-type {\n",
       "        vertical-align: middle;\n",
       "    }\n",
       "\n",
       "    .dataframe tbody tr th {\n",
       "        vertical-align: top;\n",
       "    }\n",
       "\n",
       "    .dataframe thead th {\n",
       "        text-align: right;\n",
       "    }\n",
       "</style>\n",
       "<table border=\"1\" class=\"dataframe\">\n",
       "  <thead>\n",
       "    <tr style=\"text-align: right;\">\n",
       "      <th></th>\n",
       "      <th>weight</th>\n",
       "      <th>page</th>\n",
       "    </tr>\n",
       "  </thead>\n",
       "  <tbody>\n",
       "    <tr>\n",
       "      <th>1860</th>\n",
       "      <td>0.136745</td>\n",
       "      <td>0.0</td>\n",
       "    </tr>\n",
       "    <tr>\n",
       "      <th>1872</th>\n",
       "      <td>0.118353</td>\n",
       "      <td>12.0</td>\n",
       "    </tr>\n",
       "    <tr>\n",
       "      <th>1865</th>\n",
       "      <td>0.113555</td>\n",
       "      <td>5.0</td>\n",
       "    </tr>\n",
       "    <tr>\n",
       "      <th>1866</th>\n",
       "      <td>0.085566</td>\n",
       "      <td>6.0</td>\n",
       "    </tr>\n",
       "    <tr>\n",
       "      <th>1863</th>\n",
       "      <td>0.085166</td>\n",
       "      <td>3.0</td>\n",
       "    </tr>\n",
       "    <tr>\n",
       "      <th>1862</th>\n",
       "      <td>0.070772</td>\n",
       "      <td>2.0</td>\n",
       "    </tr>\n",
       "    <tr>\n",
       "      <th>1867</th>\n",
       "      <td>0.070772</td>\n",
       "      <td>7.0</td>\n",
       "    </tr>\n",
       "    <tr>\n",
       "      <th>1864</th>\n",
       "      <td>0.069572</td>\n",
       "      <td>4.0</td>\n",
       "    </tr>\n",
       "    <tr>\n",
       "      <th>1868</th>\n",
       "      <td>0.067973</td>\n",
       "      <td>8.0</td>\n",
       "    </tr>\n",
       "    <tr>\n",
       "      <th>1861</th>\n",
       "      <td>0.061176</td>\n",
       "      <td>1.0</td>\n",
       "    </tr>\n",
       "    <tr>\n",
       "      <th>1873</th>\n",
       "      <td>0.040384</td>\n",
       "      <td>13.0</td>\n",
       "    </tr>\n",
       "    <tr>\n",
       "      <th>1870</th>\n",
       "      <td>0.024790</td>\n",
       "      <td>10.0</td>\n",
       "    </tr>\n",
       "    <tr>\n",
       "      <th>1871</th>\n",
       "      <td>0.022391</td>\n",
       "      <td>11.0</td>\n",
       "    </tr>\n",
       "    <tr>\n",
       "      <th>1869</th>\n",
       "      <td>0.019592</td>\n",
       "      <td>9.0</td>\n",
       "    </tr>\n",
       "    <tr>\n",
       "      <th>1874</th>\n",
       "      <td>0.013195</td>\n",
       "      <td>14.0</td>\n",
       "    </tr>\n",
       "  </tbody>\n",
       "</table>\n",
       "</div>"
      ],
      "text/plain": [
       "        weight  page\n",
       "1860  0.136745   0.0\n",
       "1872  0.118353  12.0\n",
       "1865  0.113555   5.0\n",
       "1866  0.085566   6.0\n",
       "1863  0.085166   3.0\n",
       "1862  0.070772   2.0\n",
       "1867  0.070772   7.0\n",
       "1864  0.069572   4.0\n",
       "1868  0.067973   8.0\n",
       "1861  0.061176   1.0\n",
       "1873  0.040384  13.0\n",
       "1870  0.024790  10.0\n",
       "1871  0.022391  11.0\n",
       "1869  0.019592   9.0\n",
       "1874  0.013195  14.0"
      ]
     },
     "execution_count": 145,
     "metadata": {},
     "output_type": "execute_result"
    }
   ],
   "source": [
    "laststep = history[\"step\"].max()\n",
    "last_step_hist = history.loc[history[\"step\"]==laststep]\n",
    "last_step_hist.drop(columns=[\"step\"],inplace=True)\n",
    "last_step_hist=last_step_hist.sort_values(by=\"weight\",ascending=False)\n",
    "last_step_hist"
   ]
  }
 ],
 "metadata": {
  "kernelspec": {
   "display_name": "Python 3",
   "language": "python",
   "name": "python3"
  },
  "language_info": {
   "codemirror_mode": {
    "name": "ipython",
    "version": 3
   },
   "file_extension": ".py",
   "mimetype": "text/x-python",
   "name": "python",
   "nbconvert_exporter": "python",
   "pygments_lexer": "ipython3",
   "version": "3.7.4"
  }
 },
 "nbformat": 4,
 "nbformat_minor": 2
}