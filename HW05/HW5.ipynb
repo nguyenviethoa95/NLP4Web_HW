{
 "cells": [
  {
   "cell_type": "markdown",
   "metadata": {},
   "source": [
    "<h1> NLP and the Web - WS 20/21: Home Exercise 5 </h1>"
   ]
  },
  {
   "cell_type": "markdown",
   "metadata": {},
   "source": [
    "In this exercise, you will be able to perform part-of-speech tagging by yourself using Hidden Markov Models.\n",
    "Part-of-speech tagging (POS tagging) is the process assigning a syntactic label to each token in a document. This\n",
    "kind of tagging gives us more information about surrounding words, e.g. adjectives occur more often before a noun and\n",
    "after a determiner and verbs appear usually after a noun. As an example, here we have two sentences:<br><br>\n",
    "\"Time flies like an arrow.\"<br>\n",
    "\"Fruit flies ate a banana\""
   ]
  },
  {
   "cell_type": "markdown",
   "metadata": {},
   "source": [
    "A tokenizer would split them into the following tokens:"
   ]
  },
  {
   "cell_type": "markdown",
   "metadata": {},
   "source": [
    "<img src=\"data:image/png;base64,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\" />"
   ]
  },
  {
   "cell_type": "markdown",
   "metadata": {},
   "source": [
    "A part-of-speech tagger (spaCy tagger) could then assign labels, or <b>tags</b>, to the tokens according to their respective parts\n",
    "of speech:"
   ]
  },
  {
   "cell_type": "markdown",
   "metadata": {},
   "source": [
    "<img src=\"data:image/png;base64,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\" />"
   ]
  },
  {
   "cell_type": "markdown",
   "metadata": {},
   "source": [
    "Hidden Markov Models (HMMs): are graphical probabilistic models that enable us to talk about observed and hidden\n",
    "events. The latter being considered as causal factors in the model (Jurafky & Martin, 2019). For instance, in our real\n",
    "world we can see words but we cannot see pos-tags. Given the explanation of HMMs in the lecture and in our lab session,\n",
    "we will find the best pos sequence for a given word sequence using the Bayes’ Rule and the Viterbi Algorithm, please\n",
    "refer to slides from both Lecture and Lab session for further details.<br><br>\n",
    "<b>Note:</b> For this exercise, you may only use spaCy, scikit-learn, NumPy, Pandas and internal packages from Python. Please\n",
    "follow the instructions as given below and in case of questions use our Discussion forum in Moodle, we don’t answer\n",
    "questions via email.\n",
    "<br>\n",
    "<br>\n",
    "Using the files <i>transisition_probabilities.csv</i> and <i>observation_likelihoods.csv</i>, compute the likelihood of POS tags for the\n",
    "following word sequence:"
   ]
  },
  {
   "cell_type": "markdown",
   "metadata": {},
   "source": [
    "<img src=\"data:image/png;base64,iVBORw0KGgoAAAANSUhEUgAAAJMAAAAoCAYAAAD66MijAAAABHNCSVQICAgIfAhkiAAAABl0RVh0U29mdHdhcmUAZ25vbWUtc2NyZWVuc2hvdO8Dvz4AAAT7SURBVHic7dtNSFRvFAbw544m5AjW4AfiRvxoYwUqWOpikBwUroRoxKWdpiGioEuRtHGh1CJdVIq4iiFwERGDEoFrHQShDwpFi2iYRPE6oiHFXJ//ohrKv6NOvlYj5wezGK/vuWcOj77X64xGkhBCAdvfbkAcHxImoYyESSgjYRLKSJiEMhImoYyESajDKDmdTgL47UdPT4/ymkfxcDqdR/L6Y20ukeawG42M7qalpmmIcsm+aw9T86j8yV7/5blE04Nsc0IZCZNQRsIklJEwCWUkTEIZCZNQRsIklFEapvHxcbhcLhiGgdevX6ssLWKA0jDpuo6UlBSUl5fj7NmzKksrNzIyEhM1Y0n8325gLyThdrthmiauXbuGixcvYmBgAIZh4PTp0+jr60N8fDy6u7sxPj6Oubk5zM7OoqWlBTabDR6PB7qu4+nTpwiFQrhz5w4cDgcmJibQ2dmJjY0NZGZmwjCMQ/e6W823b9/i4cOH0DQNZWVl0HVdwVS+mZ6ehsfjQVtbG27fvo2mpiaYpvnLDEpLSwEA8/Pz8Hg8OHHiBEpLS3Hp0iXMzc1hdHQUa2traGpqwoULFw7f1IH/8fLdfksMw+Dw8HBUa/equbi4yKysLJLk+vo609LSeP/+fZLkrVu3uLCwwIWFBWZmZpIkJycnWVxczJWVFZ45c4ZDQ0N8//49a2tree/ePZLk2toaExMTubS0xNXVVSW97qzp9/uZm5vL5eVlhkIhVlVV8fHjx0rORTL8+trb2/n8+XN6vd7/zYAk/X4/8/Pzubq6Sp/Px6KiIgYCARYUFNA0TQYCAaalpfHz589R97DTP/2bCQCys7Nht9sxPz+Pqakp9Pf3Y2xsDC0tLfjw4QNycnIAAH6/H0tLS3j16hVM00RKSgoSEhLgcrmQlZUFXdcxMzMDADh16hRsNhvS09OV9bmz5t27d+F0OpGamgoAqK+vx8jICGpra5Wc78fra21tjTgDABgbG0NFRQUcDgeKi4sxMzODwcFBnDx5Eg8ePAAA2O12vHv37tCXJjHx19zly5fx7NkzzM7OoqGhAR8/fsSLFy+Ql5cHAPj06ROuXLmCiYkJuFyuXWvExcX9yZaxvr4Ou90efp6UlIRgMHhk54s0g2AwiISEhPBzTdNgmiYqKyvR1dWFrq4uJUECYihMHo8HGRkZAIDq6mo0Nzejrq4OwLefvtTUVDQ0NCApKelANS3LwubmptI+f67pdDrh8/nCx3w+H8rLy5We72eRZlBWVgav14utra1wjyUlJeHryB9f+3H8UA68IR5gD/V6vczLy2NFRQVfvnx54LX7tWFZFtPT07m4uEiSnJqa4vnz58PH37x5w3PnzrG5uZm9vb1MTk7m9evX6XA4ePPmTQaDQdbU1LCwsDDcl67rrKys5KNHj6Lqaa9ed9Z0u928ceMG3W43DcPgxsaGsnN5vV46HA52dHTQNM1dZ/DkyROSZGdnJ/Pz83n16lXW19eTJDs6OlhUVMTGxkY2NjYyEAhE3cNOx+b9TNvb2yAZ1XZGEpqm7Xrsd3vdWTMUCuHr169ITEyMuEbVXPaagWVZsCzrly3vy5cvsCzrt3rb9XuPS5hUkzfHRd9DTFwzidggYRLKSJiEMhImoYyESSgjYRLKSJiEOge+vfmdfKJXPtEbSdQ3LYWIRLY5oYyESSgjYRLKSJiEMv8B85NY3z0YmFEAAAAASUVORK5CYII=\" />"
   ]
  },
  {
   "cell_type": "markdown",
   "metadata": {},
   "source": [
    "<i>Please use comments where appropriate to help tutors understand your code.</i>"
   ]
  },
  {
   "cell_type": "markdown",
   "metadata": {},
   "source": [
    "<b>Task 1 - 4 points</b>"
   ]
  },
  {
   "cell_type": "markdown",
   "metadata": {},
   "source": [
    "Load the given files and:"
   ]
  },
  {
   "cell_type": "code",
   "execution_count": 1,
   "metadata": {},
   "outputs": [],
   "source": [
    "import pandas as pd\n",
    "\n",
    "# Load CSV files\n",
    "observation_likelihood = pd.read_csv('observation_likelihoods.csv')\n",
    "transition_probability = pd.read_csv('transisition_probabilities.csv')\n",
    "\n",
    "# Assign labels for better readability\n",
    "observation_likelihood.columns = ['Tags', ' I', ' want', ' to ', ' race']\n",
    "transition_probability.columns = ['Tags', 'VB', 'TO', 'NN', 'PPSS']\n",
    "\n",
    "# setting tags as index column\n",
    "observation_likelihood.set_index(\"Tags\", inplace = True)\n",
    "transition_probability.set_index(\"Tags\", inplace = True)"
   ]
  },
  {
   "cell_type": "code",
   "execution_count": 2,
   "metadata": {},
   "outputs": [
    {
     "data": {
      "text/plain": "          VB       TO       NN     PPSS\nTags                                   \n<s>   0.0190  0.00430  0.04100  0.06700\nVB    0.0038  0.03500  0.04700  0.00700\nTO    0.8300  0.00000  0.00047  0.00000\nNN    0.0040  0.01600  0.08700  0.00450\nPPSS  0.2300  0.00079  0.00120  0.00014",
      "text/html": "<div>\n<style scoped>\n    .dataframe tbody tr th:only-of-type {\n        vertical-align: middle;\n    }\n\n    .dataframe tbody tr th {\n        vertical-align: top;\n    }\n\n    .dataframe thead th {\n        text-align: right;\n    }\n</style>\n<table border=\"1\" class=\"dataframe\">\n  <thead>\n    <tr style=\"text-align: right;\">\n      <th></th>\n      <th>VB</th>\n      <th>TO</th>\n      <th>NN</th>\n      <th>PPSS</th>\n    </tr>\n    <tr>\n      <th>Tags</th>\n      <th></th>\n      <th></th>\n      <th></th>\n      <th></th>\n    </tr>\n  </thead>\n  <tbody>\n    <tr>\n      <th>&lt;s&gt;</th>\n      <td>0.0190</td>\n      <td>0.00430</td>\n      <td>0.04100</td>\n      <td>0.06700</td>\n    </tr>\n    <tr>\n      <th>VB</th>\n      <td>0.0038</td>\n      <td>0.03500</td>\n      <td>0.04700</td>\n      <td>0.00700</td>\n    </tr>\n    <tr>\n      <th>TO</th>\n      <td>0.8300</td>\n      <td>0.00000</td>\n      <td>0.00047</td>\n      <td>0.00000</td>\n    </tr>\n    <tr>\n      <th>NN</th>\n      <td>0.0040</td>\n      <td>0.01600</td>\n      <td>0.08700</td>\n      <td>0.00450</td>\n    </tr>\n    <tr>\n      <th>PPSS</th>\n      <td>0.2300</td>\n      <td>0.00079</td>\n      <td>0.00120</td>\n      <td>0.00014</td>\n    </tr>\n  </tbody>\n</table>\n</div>"
     },
     "execution_count": 2,
     "metadata": {},
     "output_type": "execute_result"
    }
   ],
   "source": [
    "transition_probability"
   ]
  },
  {
   "cell_type": "code",
   "execution_count": 3,
   "metadata": {},
   "outputs": [
    {
     "data": {
      "text/plain": "         I      want   to      race\nTags                               \nVB    0.00  0.009300  0.00  0.00012\nTO    0.00  0.000000  0.99  0.00000\nNN    0.00  0.000054  0.00  0.00057\nPPSS  0.37  0.000000  0.00  0.00000",
      "text/html": "<div>\n<style scoped>\n    .dataframe tbody tr th:only-of-type {\n        vertical-align: middle;\n    }\n\n    .dataframe tbody tr th {\n        vertical-align: top;\n    }\n\n    .dataframe thead th {\n        text-align: right;\n    }\n</style>\n<table border=\"1\" class=\"dataframe\">\n  <thead>\n    <tr style=\"text-align: right;\">\n      <th></th>\n      <th>I</th>\n      <th>want</th>\n      <th>to</th>\n      <th>race</th>\n    </tr>\n    <tr>\n      <th>Tags</th>\n      <th></th>\n      <th></th>\n      <th></th>\n      <th></th>\n    </tr>\n  </thead>\n  <tbody>\n    <tr>\n      <th>VB</th>\n      <td>0.00</td>\n      <td>0.009300</td>\n      <td>0.00</td>\n      <td>0.00012</td>\n    </tr>\n    <tr>\n      <th>TO</th>\n      <td>0.00</td>\n      <td>0.000000</td>\n      <td>0.99</td>\n      <td>0.00000</td>\n    </tr>\n    <tr>\n      <th>NN</th>\n      <td>0.00</td>\n      <td>0.000054</td>\n      <td>0.00</td>\n      <td>0.00057</td>\n    </tr>\n    <tr>\n      <th>PPSS</th>\n      <td>0.37</td>\n      <td>0.000000</td>\n      <td>0.00</td>\n      <td>0.00000</td>\n    </tr>\n  </tbody>\n</table>\n</div>"
     },
     "execution_count": 3,
     "metadata": {},
     "output_type": "execute_result"
    }
   ],
   "source": [
    "observation_likelihood"
   ]
  },
  {
   "cell_type": "markdown",
   "metadata": {},
   "source": [
    "a) Write a function to obtain a list of all possible tag sequences for the word sequence given above and store them in a list. Print the first 5 tag sequences as well as the total number of sequences"
   ]
  },
  {
   "cell_type": "code",
   "execution_count": 4,
   "metadata": {},
   "outputs": [],
   "source": [
    "import itertools\n",
    "\n",
    "def calculate_tag_permutations(observations):\n",
    "    \"\"\"\n",
    "    Calculates an array-like object of all possible tag permutations for the token sequence\n",
    "    \n",
    "    :param observations: any object that contains all possible tags\n",
    "    :return: array-like object of all tag permutations\n",
    "    \"\"\"\n",
    "    \n",
    "    return [p for p in itertools.product(observations, repeat=len(observations))]"
   ]
  },
  {
   "cell_type": "code",
   "execution_count": 5,
   "metadata": {},
   "outputs": [
    {
     "name": "stdout",
     "output_type": "stream",
     "text": [
      "First 5  combinations: \n",
      "[('VB', 'VB', 'VB', 'VB'), ('VB', 'VB', 'VB', 'TO'), ('VB', 'VB', 'VB', 'NN'), ('VB', 'VB', 'VB', 'PPSS'), ('VB', 'VB', 'TO', 'VB')]\n",
      "Total number of sequences: 256\n"
     ]
    }
   ],
   "source": [
    "comb = calculate_tag_permutations(transition_probability.columns[0:])\n",
    "print(\"First 5  combinations: \", comb[:5], sep= \"\\n\")\n",
    "print(\"Total number of sequences:\", len(comb))"
   ]
  },
  {
   "cell_type": "markdown",
   "metadata": {},
   "source": [
    "b) Implement the Hidden Markov Model (HMM) discussed in the lecture and use it to assign a probability to each possible sequence. Print the most likely tag sequence and its probability "
   ]
  },
  {
   "cell_type": "code",
   "execution_count": 6,
   "metadata": {},
   "outputs": [],
   "source": [
    "import operator\n",
    "import numpy as np\n",
    "def calculate_sequence_probability(sequence, observations, transitions):\n",
    "    \"\"\"\n",
    "    Calculates a probability for a tag sequence using the Hidden Markov Model\n",
    "    \n",
    "    :param sequence: array-like object of a POS tag sequence\n",
    "    :param observations: array-like object of observation probabilities\n",
    "    :param transitions: array-like object of transition probabilities\n",
    "    :return: Probability of the POS sequence\n",
    "    \"\"\"\n",
    "    join_prob = []\n",
    "    \n",
    "    words = observation_likelihood.columns[0:]\n",
    "    \n",
    "    \n",
    "    # p(w_i|t_i) Emission prob\n",
    "    for i, tag in enumerate(sequence): \n",
    "        join_prob.append(observations.loc[tag, observation_likelihood.columns[i]])\n",
    "    \n",
    "    join_prob.append(transition_probability.loc['<s>', sequence[0]])\n",
    "    \n",
    "    # p(t_i|t_i-1) Transition \n",
    "    for i, tag in enumerate(sequence):\n",
    "        if i > 0: \n",
    "            join_prob.append(transitions.loc[sequence[i-1],tag])        \n",
    "    \n",
    "    \n",
    "    \n",
    "    return np.prod(join_prob)\n",
    "\n",
    "def score_tag_sequences(sequences, observations, transitions):\n",
    "    \"\"\"\n",
    "    Calculate the sequences probability for every entry in an array-like object of POS sequences\n",
    "    \n",
    "    :param sequences: array-like object of POS tag sequences\n",
    "    :param observations: array-like object of observation probabilities\n",
    "    :param transitions: array-like object of transition probabilities\n",
    "    :return: array-like object that contains a POS sequence and a probability for every entry\n",
    "    \"\"\"\n",
    "    seq_scores = {}\n",
    "    for seq in sequences: \n",
    "        seq_scores[tuple(seq)] = calculate_sequence_probability(seq, observations, transitions)\n",
    "    return seq_scores\n",
    "\n",
    "def find_sequence_with_highest_probability(scored_sequences):\n",
    "    \"\"\"\n",
    "    Returns the POS tag sequence and probability with the highest probability from an array-like object that contains a POS sequence and a probability for every entry\n",
    "    \n",
    "    :param scored_sequences: array-like object that contains a POS sequence and a probability for every entry\n",
    "    :return: Tuple of sequence and probability \n",
    "    \"\"\"\n",
    "    return {k: v for k, v in sorted(scored_sequences.items(), key=lambda item: item[1], reverse =True)}"
   ]
  },
  {
   "cell_type": "code",
   "execution_count": 7,
   "metadata": {},
   "outputs": [],
   "source": [
    "scored_sequences = score_tag_sequences(comb, observation_likelihood,transition_probability)\n",
    "highest_score_seq = find_sequence_with_highest_probability(scored_sequences)"
   ]
  },
  {
   "cell_type": "code",
   "execution_count": 8,
   "metadata": {},
   "outputs": [
    {
     "name": "stdout",
     "output_type": "stream",
     "text": [
      "The most likely sequence:  ('PPSS', 'VB', 'TO', 'VB')\n",
      "Probability:  1.829994939234e-10\n"
     ]
    }
   ],
   "source": [
    "print(\"The most likely sequence: \", list(highest_score_seq.keys())[0])\n",
    "print(\"Probability: \", highest_score_seq[list(highest_score_seq.keys())[0]])"
   ]
  },
  {
   "cell_type": "markdown",
   "metadata": {},
   "source": [
    "c) Why would the naive solution of scoring each tag sequence not scale up to real world problems ? How does the Viterbi algorithm relate to that ? Discuss in up to 3 sentences"
   ]
  },
  {
   "cell_type": "markdown",
   "metadata": {},
   "source": [
    "__Answer:__ In this example, we only take in to consideration 4 possibles tags, therefore we have 256 possible combinations of tags. If we take into account all possible tags and have a much longer sentence, the number of possible combination will exponentially increase and the calculation become computationally expensive"
   ]
  },
  {
   "cell_type": "markdown",
   "metadata": {},
   "source": [
    "<b>Task 2 - 6 points</b>"
   ]
  },
  {
   "cell_type": "markdown",
   "metadata": {},
   "source": [
    "Implement the Viterbi algorithm as shown in slide 13 of our Lab Session 5 and apply it to the data from above:"
   ]
  },
  {
   "cell_type": "markdown",
   "metadata": {},
   "source": [
    "a) Compute the initialization step of Viterbi given transition and observation probability and print the probability matrix"
   ]
  },
  {
   "cell_type": "code",
   "execution_count": 9,
   "metadata": {},
   "outputs": [
    {
     "name": "stdout",
     "output_type": "stream",
     "text": [
      "Accumulated probability matrix: \n",
      "[[0. 0. 0. 0.]\n",
      " [0. 0. 0. 0.]\n",
      " [0. 0. 0. 0.]\n",
      " [0. 0. 0. 0.]]\n"
     ]
    }
   ],
   "source": [
    "# A - initialise stuff\n",
    "nSamples = 4\n",
    "nStates = 4 # number of states\n",
    "c = np.zeros(4) # scale factors (necessary to prevent underflow)\n",
    "\n",
    "# Accumulated probability matrix \n",
    "viterbi = np.zeros((nStates,nSamples)) \n",
    "# Backtracking matrix \n",
    "psi = np.zeros((nStates,nSamples))\n",
    "# Best path sequence\n",
    "best_path = np.zeros(nSamples); \n",
    "print(\"Accumulated probability matrix: \", viterbi, sep=\"\\n\")"
   ]
  },
  {
   "cell_type": "markdown",
   "metadata": {},
   "source": [
    "b) Compute the recursion step of Viterbi given transition and observation probability and print the probability matrix again"
   ]
  },
  {
   "cell_type": "code",
   "execution_count": 10,
   "metadata": {},
   "outputs": [
    {
     "ename": "NameError",
     "evalue": "name 'C' is not defined",
     "output_type": "error",
     "traceback": [
      "\u001B[1;31m---------------------------------------------------------------------------\u001B[0m",
      "\u001B[1;31mNameError\u001B[0m                                 Traceback (most recent call last)",
      "\u001B[1;32m<ipython-input-10-c841678f0d14>\u001B[0m in \u001B[0;36m<module>\u001B[1;34m\u001B[0m\n\u001B[1;32m----> 1\u001B[1;33m \u001B[0mviterbi\u001B[0m\u001B[1;33m[\u001B[0m\u001B[1;33m:\u001B[0m\u001B[1;33m,\u001B[0m\u001B[1;36m0\u001B[0m\u001B[1;33m]\u001B[0m \u001B[1;33m=\u001B[0m \u001B[0mC\u001B[0m \u001B[1;33m*\u001B[0m \u001B[0mB\u001B[0m\u001B[1;33m[\u001B[0m\u001B[1;33m:\u001B[0m\u001B[1;33m,\u001B[0m\u001B[0mO\u001B[0m\u001B[1;33m[\u001B[0m\u001B[1;36m0\u001B[0m\u001B[1;33m]\u001B[0m\u001B[1;33m]\u001B[0m\u001B[1;33m\u001B[0m\u001B[1;33m\u001B[0m\u001B[0m\n\u001B[0m\u001B[0;32m      2\u001B[0m \u001B[1;33m\u001B[0m\u001B[0m\n\u001B[0;32m      3\u001B[0m \u001B[1;31m# Scaling factor to prevent underflow\u001B[0m\u001B[1;33m\u001B[0m\u001B[1;33m\u001B[0m\u001B[1;33m\u001B[0m\u001B[0m\n\u001B[0;32m      4\u001B[0m \u001B[0mc\u001B[0m\u001B[1;33m[\u001B[0m\u001B[1;36m0\u001B[0m\u001B[1;33m]\u001B[0m \u001B[1;33m=\u001B[0m \u001B[1;36m1.0\u001B[0m\u001B[1;33m/\u001B[0m\u001B[0mnp\u001B[0m\u001B[1;33m.\u001B[0m\u001B[0msum\u001B[0m\u001B[1;33m(\u001B[0m\u001B[0mviterbi\u001B[0m\u001B[1;33m[\u001B[0m\u001B[1;33m:\u001B[0m\u001B[1;33m,\u001B[0m\u001B[1;36m0\u001B[0m\u001B[1;33m]\u001B[0m\u001B[1;33m)\u001B[0m\u001B[1;33m\u001B[0m\u001B[1;33m\u001B[0m\u001B[0m\n\u001B[0;32m      5\u001B[0m \u001B[1;33m\u001B[0m\u001B[0m\n",
      "\u001B[1;31mNameError\u001B[0m: name 'C' is not defined"
     ]
    }
   ],
   "source": [
    "viterbi[:,0] = C * B[:,O[0]]\n",
    "\n",
    "# Scaling factor to prevent underflow\n",
    "c[0] = 1.0/np.sum(viterbi[:,0])\n",
    "\n",
    "viterbi[:,0] = c[0] * viterbi[:,0] \n",
    "\n",
    "psi[0] = 0;\n",
    "\n",
    "#### Viterbi iterations\n",
    "\n",
    "# Loop through observations\n",
    "for t in range(1,nSamples): \n",
    "    # Loop through states\n",
    "    for s in range (0,nStates):\n",
    "        trans_p = viterbi[:,t-1] * A[:,s]\n",
    "        psi[s,t], viterbi[s,t] = max(enumerate(trans_p), key=operator.itemgetter(1))\n",
    "        viterbi[s,t] = viterbi[s,t]*B[s,O[t]]\n",
    "\n",
    "    c[t] = 1.0/np.sum(viterbi[:,t]) # apply scaling factor\n",
    "    viterbi[:,t] = c[t] * viterbi[:,t]\n",
    "\n",
    "print(\"Accumulated probability matrix: \", viterbi, sep=\"\\n\")    "
   ]
  },
  {
   "cell_type": "markdown",
   "metadata": {},
   "source": [
    "c) Compute the termination step of Viterbi given transition and observation probability and print the most likely tag sequence and its probability"
   ]
  },
  {
   "cell_type": "code",
   "execution_count": null,
   "metadata": {},
   "outputs": [],
   "source": [
    "best_path[-1] =  np.argmax(psi[:, -1])   # States with highest prob \n",
    "\n",
    "\n",
    "for t in range(nSamples-1,0,-1): # states of (last-1)th to 0th time step\n",
    "    best_path[t-1] = psi[int(best_path[t]),t]\n",
    "\n",
    "# The tags of the path \n",
    "best_path_tags = [transition_probability.columns[0:][i] for i in best_path]\n",
    "print('Best path=', best_path_tags, sep='\\n')\n",
    "print(\"The probability of the best path: \", viterbi[int(best_path[-1]),3])"
   ]
  },
  {
   "cell_type": "markdown",
   "metadata": {},
   "source": [
    "Please upload in Moodle your working Jupyter-Notebook <b>before next lab session</b> <span style=\"color:red\">(Dec 10st, 4:14pm)</span>. Submission format: ExerciseX_YourName.zip<br>\n",
    "Submission should contain your filled out Jupyter notebook template (naming schema: ExerciseX_YourName.ipynb) and any auxiliar files that are necessary to run your code (e.g. datasets provided by us)"
   ]
  }
 ],
 "metadata": {
  "kernelspec": {
   "display_name": "Python 3",
   "language": "python",
   "name": "python3"
  },
  "language_info": {
   "codemirror_mode": {
    "name": "ipython",
    "version": 3
   },
   "file_extension": ".py",
   "mimetype": "text/x-python",
   "name": "python",
   "nbconvert_exporter": "python",
   "pygments_lexer": "ipython3",
   "version": "3.7.4"
  }
 },
 "nbformat": 4,
 "nbformat_minor": 2
}