{
 "cells": [
  {
   "cell_type": "markdown",
   "metadata": {},
   "source": [
    "# Plotting with seaborn\n",
    "Today you will be introduced to the `seaborn` library. Seaborn is a library for data visualization in python, based on `matplotlib`. It works very well together with pandas.\n",
    "\n",
    "First, make sure to install seaborn and matplotlib:\n",
    "\n",
    "```sh\n",
    "pip install matplotlib\n",
    "pip install seaborn\n",
    "```\n",
    "\n",
    "You can find more about seaborn here: https://seaborn.pydata.org/"
   ]
  },
  {
   "cell_type": "code",
   "execution_count": null,
   "metadata": {},
   "outputs": [],
   "source": [
    "# Some imports\n",
    "import pandas as pd\n",
    "import matplotlib.pyplot as plt\n",
    "import seaborn as sns\n",
    "import collections\n",
    "\n",
    "sns.set()"
   ]
  },
  {
   "cell_type": "markdown",
   "metadata": {},
   "source": [
    "We will use a dataset containing tweets and sentiments about airlines from https://www.kaggle.com/crowdflower/twitter-airline-sentiment. First, load the data and have a look:"
   ]
  },
  {
   "cell_type": "code",
   "execution_count": null,
   "metadata": {},
   "outputs": [],
   "source": [
    "df = pd.read_csv('Tweets.csv')\n",
    "df.tail()"
   ]
  },
  {
   "cell_type": "markdown",
   "metadata": {},
   "source": [
    "It would be nice to have some more information about the data we are seeing. What is the label distribution? Seaborn comes with a `countplot` function and helps us to visualize the sentiment labels in only one line of code:"
   ]
  },
  {
   "cell_type": "code",
   "execution_count": null,
   "metadata": {},
   "outputs": [],
   "source": [
    "sns.countplot(x='airline_sentiment', data=df)"
   ]
  },
  {
   "cell_type": "markdown",
   "metadata": {},
   "source": [
    "Though it does look nice, let us also consider colorblind people:"
   ]
  },
  {
   "cell_type": "code",
   "execution_count": null,
   "metadata": {},
   "outputs": [],
   "source": [
    "sns.set_palette('colorblind')\n",
    "sns.countplot(x='airline_sentiment', data=df)"
   ]
  },
  {
   "cell_type": "markdown",
   "metadata": {},
   "source": [
    "What kind of airlines are covered? How many reviews do they have? Let's find out. This time, show the count on the `y` axis."
   ]
  },
  {
   "cell_type": "code",
   "execution_count": null,
   "metadata": {},
   "outputs": [],
   "source": [
    "sns.countplot(y='airline', data=df)"
   ]
  },
  {
   "cell_type": "markdown",
   "metadata": {},
   "source": [
    "So far, colors seem nice, but they do not give any additional information. Most plots in seaborn take a `hue` argument. This argument can be used to visualize another dimension via its coloring. Let's combine the information of the sentiment of a review together with the number of reviews per airline:"
   ]
  },
  {
   "cell_type": "code",
   "execution_count": null,
   "metadata": {},
   "outputs": [],
   "source": [
    "sns.countplot(y='airline', data=df, hue='airline_sentiment')"
   ]
  },
  {
   "cell_type": "markdown",
   "metadata": {},
   "source": [
    "Now we have a much better impression of what the data looks like. We can count the instances of categorical variables. Since we are doing NLP, let's find out how many characters a review contains. A good way to visualize the distribution of characters per review would be a histogram."
   ]
  },
  {
   "cell_type": "code",
   "execution_count": null,
   "metadata": {},
   "outputs": [],
   "source": [
    "# Compute character length\n",
    "df['text_length'] = df['text'].apply(lambda review: len(review))\n",
    "df.head()"
   ]
  },
  {
   "cell_type": "code",
   "execution_count": null,
   "metadata": {},
   "outputs": [],
   "source": [
    "# Plot a histogram\n",
    "sns.histplot(data=df, x='text_length', binwidth=3)"
   ]
  },
  {
   "cell_type": "markdown",
   "metadata": {},
   "source": [
    "The `binwidth` determines the width of each bar (bin). The y-axis shows how many instances fall into each of the bins on the x-axis. It seems that the ditribution is highly skewed towards 140 characters. Is that the same for reviews of each sentiment? We can again use the `hue` attribute. Additionally, `kde=True` fits a continuous curve on the distribution."
   ]
  },
  {
   "cell_type": "code",
   "execution_count": null,
   "metadata": {},
   "outputs": [],
   "source": [
    "sns.histplot(data=df, x='text_length', binwidth=3, hue='airline_sentiment', kde=True)"
   ]
  },
  {
   "cell_type": "markdown",
   "metadata": {},
   "source": [
    "It seems that people with a negative opinion tend to write as much as possible. The distribution of neutral and positive reviews is more uniform.\n",
    "\n",
    "**Task:**\n",
    "Look at the documentation and find out how else we can visualize the distribution of the character length while keeping the three sentiment classes separatly. E.g. using colored stacked bars."
   ]
  },
  {
   "cell_type": "code",
   "execution_count": null,
   "metadata": {},
   "outputs": [],
   "source": [
    "# TODO"
   ]
  },
  {
   "cell_type": "markdown",
   "metadata": {},
   "source": [
    "Let us look at another function, the `lineplot`. We want to know how many tweets (of our very small dataset) have been tweeted per day."
   ]
  },
  {
   "cell_type": "code",
   "execution_count": null,
   "metadata": {},
   "outputs": [],
   "source": [
    "# First convert the `tweet_created` field into a datetime object ...\n",
    "df['tweet_created'] = pd.to_datetime(df['tweet_created'])\n",
    "# ... then extract the date (without the time information)\n",
    "df['tweet_created_date'] = df['tweet_created'].dt.date\n",
    "df.head()"
   ]
  },
  {
   "cell_type": "markdown",
   "metadata": {},
   "source": [
    "Prepare the data: Lets keep the number of tweets per day, airline and sentiment separatley"
   ]
  },
  {
   "cell_type": "code",
   "execution_count": null,
   "metadata": {},
   "outputs": [],
   "source": [
    "df_counts = df.groupby(by=['tweet_created_date', 'airline', 'airline_sentiment']).count().reset_index()\n",
    "df_counts['number_tweets'] = df_counts['tweet_id']\n",
    "df_counts = df_counts.loc[:, ['tweet_created_date', 'airline', 'airline_sentiment', 'number_tweets']]\n",
    "df_counts.head()"
   ]
  },
  {
   "cell_type": "code",
   "execution_count": null,
   "metadata": {},
   "outputs": [],
   "source": [
    "# We dont have a non-zero number of tweets for every combination. \n",
    "# Just fill in zeros for all remaing combination where no such tweet occured.\n",
    "\n",
    "# Get all (unique) values\n",
    "dates = list(set(df['tweet_created_date']))\n",
    "airlines = list(set(df['airline']))\n",
    "sentiments = list(set(df['airline_sentiment']))\n",
    "\n",
    "# Store all data here, that must be added\n",
    "data_to_add = collections.defaultdict(list)\n",
    "\n",
    "# Now go through every combinatin\n",
    "for date in dates:\n",
    "    for airline in airlines:\n",
    "        for sentiment in sentiments:\n",
    "            \n",
    "            has_date = df_counts['tweet_created_date'] == date\n",
    "            has_airline = df_counts['airline'] == airline\n",
    "            has_sentiment = df_counts['airline_sentiment'] == sentiment\n",
    "            \n",
    "            # do we have an entry for this?\n",
    "            if len(df_counts[has_date & has_airline & has_sentiment]) == 0:\n",
    "                # If not add one entry with 0 tweets\n",
    "                data_to_add['tweet_created_date'].append(date)\n",
    "                data_to_add['airline'].append(airline)\n",
    "                data_to_add['airline_sentiment'].append(sentiment)\n",
    "                data_to_add['number_tweets'].append(0)\n",
    "                \n",
    "# Combine and sort values            \n",
    "df_counts = pd.concat((df_counts, pd.DataFrame(data_to_add)))\n",
    "df_counts = df_counts.sort_values(by=['tweet_created_date', 'airline', 'airline_sentiment'])\n",
    "df_counts.head(20)"
   ]
  },
  {
   "cell_type": "markdown",
   "metadata": {},
   "source": [
    "For the sake of simplicity, let us only consider two airlines:"
   ]
  },
  {
   "cell_type": "code",
   "execution_count": null,
   "metadata": {},
   "outputs": [],
   "source": [
    "df_counts = df_counts[(df_counts['airline'] == 'US Airways') | (df_counts['airline'] == 'United')]\n",
    "df_counts.head(6)"
   ]
  },
  {
   "cell_type": "markdown",
   "metadata": {},
   "source": [
    "And then call the `lineplot` function. This time we want the sentiment to be visualized by color, but addtionally to separate both airlines. Luckily we can do this via the `style` argument:"
   ]
  },
  {
   "cell_type": "code",
   "execution_count": null,
   "metadata": {},
   "outputs": [],
   "source": [
    "sns.lineplot(data=df_counts, x='tweet_created_date', y='number_tweets', style='airline', hue='airline_sentiment')\n",
    "plt.xticks(rotation=45)\n",
    "plt.show()"
   ]
  },
  {
   "cell_type": "markdown",
   "metadata": {},
   "source": [
    "That's it. You can check out the Gallery (https://seaborn.pydata.org/examples/index.html) for more plots."
   ]
  }
 ],
 "metadata": {
  "kernelspec": {
   "display_name": "Python 3",
   "language": "python",
   "name": "python3"
  },
  "language_info": {
   "codemirror_mode": {
    "name": "ipython",
    "version": 3
   },
   "file_extension": ".py",
   "mimetype": "text/x-python",
   "name": "python",
   "nbconvert_exporter": "python",
   "pygments_lexer": "ipython3",
   "version": "3.7.5"
  }
 },
 "nbformat": 4,
 "nbformat_minor": 2
}
