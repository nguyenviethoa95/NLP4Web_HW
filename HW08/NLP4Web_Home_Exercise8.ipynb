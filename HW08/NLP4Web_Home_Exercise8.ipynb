{
 "cells": [
  {
   "cell_type": "markdown",
   "metadata": {},
   "source": [
    "# NLP and the Web: Home Exercise 8"
   ]
  },
  {
   "cell_type": "markdown",
   "metadata": {},
   "source": [
    "In this homework exercise you will create and evaluate an IR system.  For that, you will work on (a subset of) the CISI (http://ir.dcs.gla.ac.uk/resources/test_collections/cisi/) dataset. It comes with queries and documents, both from the computer science domain. It further provides annotation about which document is relevant for which query.\n",
    "\n",
    "Work through the tasks in order.\n",
    "\n",
    "Task descriptions assume that you use pandas to store data. You are, however, free to use any other type of storage than dataframes."
   ]
  },
  {
   "cell_type": "markdown",
   "metadata": {},
   "source": [
    "## About the data\n",
    "The data comes in three different files. All of them are `\\t` separated:\n",
    "* *queries.tsv:* consists of two columns.\n",
    "    * The first column is the `id` (integer value)\n",
    "    * The second column is the textual query (text)\n",
    "* *docs.tsv:* consists of three columns.\n",
    "    * The first column is the `id` (integer value)\n",
    "    * The second column is the `title` of the document (text)\n",
    "    * The third column is the `abstract` of the document (text).\n",
    "* *mapping.tsv: consists of two columns.*\n",
    "    * The first column is the `id` of the query (integer)\n",
    "    * The second column is the `id` of a relevant document for that query (integer)\n",
    "    \n",
    "Note that relevant documents do not exist for all queries, and that one document may be relevant to multiple queries."
   ]
  },
  {
   "cell_type": "markdown",
   "metadata": {},
   "source": [
    "## Task 1: Data Preparation (4 Points)\n",
    "\n",
    "In general it is good practice to first take a closer look at the actual data you are working on.\n",
    "\n",
    "**a)** Load all three files of the CISI dataset.\n",
    "\n",
    "Output the query with `id=13` together with the titles of all articles that are relevant for this query. The printed titles must be ordered (ascending) by the `id` of the articles. How many documents are relevant to this query?"
   ]
  },
  {
   "cell_type": "code",
   "execution_count": 98,
   "metadata": {
    "scrolled": true
   },
   "outputs": [
    {
     "name": "stdout",
     "output_type": "stream",
     "text": [
      "       id                                              title\n",
      "393    49                 Adaptive Information Dissemination\n",
      "284    59                                      Opinion Paper\n",
      "57     75  MEDLARS: Report on the Evaluation of Its Opera...\n",
      "170    77  The Effectiveness of Automatically Generated W...\n",
      "135   120       Design and Evaluation of Information Systems\n",
      "218   153  Criteria for Evaluating Technical Library Effe...\n",
      "177   223  Document Delivery Capabilities of Major Biomed...\n",
      "128   309  The SMART Automatic Document Retrieval System ...\n",
      "297   311       Communication among Scientists and Engineers\n",
      "312   486  Relevance Assessments and Retrieval System Eva...\n",
      "295   523  The Cost_Performance of an On-Line, Free-Text ...\n",
      "181   595  Selected Results From An Inquiry Into Testing ...\n",
      "71    656  Measures of the Usefulness of Written Technica...\n",
      "270   696             Computerized Drug Information services\n",
      "185   702  The CA Integrated Subject File.  II. Evaluatio...\n",
      "354   705       Comparative Searching of Computer Data Bases\n",
      "173   720  A Selective Current-Awareness System Using Eng...\n",
      "134   731  Evaluation of an SDI Service Based on the Inde...\n",
      "155   785  The Parametric Description of Retrieval Tests ...\n",
      "230   826   User Evaluation of Information Retrieval Systems\n",
      "66   1124  Some Aspects of Developing and Studying a Desc...\n",
      "271  1127  Evaluation of Information Loss Probability in ...\n",
      "169  1144                                 Automatic Indexing\n",
      "There are 23 relevant documents\n"
     ]
    }
   ],
   "source": [
    "import pandas as pd\n",
    "import spacy\n",
    "nlp = spacy.load(\"en_core_web_sm\")\n",
    "import seaborn as sns\n",
    "import matplotlib.pyplot as plt\n",
    "sns.set()\n",
    "\n",
    "\n",
    "queries = pd.read_csv(\"queries_400.tsv\", sep=\"\\t\")\n",
    "mapping = pd.read_csv(\"mapping_400.tsv\", sep=\"\\t\")\n",
    "df_ = pd.DataFrame(index=index, columns=columns) = pd.read_csv(\"documents_400.tsv\", sep=\"\\t\")\n",
    "\n",
    "doc_nr = mapping.loc[mapping['query_id'] == 13]['doc_id'].sort_values()\n",
    "result = docs.loc[docs['id'].isin([nr for nr in doc_nr])].sort_values(by=\"id\")\n",
    "print(result.iloc[:,:2])\n",
    "print(\"There are {0} relevant documents\".format(len(doc_nr)))"
   ]
  },
  {
   "cell_type": "markdown",
   "metadata": {},
   "source": [
    "**b)** To understand how many relevant documents we have for all queries, plot a histogram for the distribution of how many queries come with how many relevant articles. Use the `histplot` function from `seaborn` with a `binwidth=5`:\n",
    "\n",
    "* The x-axis should display the bins (i.e. queries with 0-4 relevant articles, queries with 5-9 relevant articles, ...)\n",
    "* The y-axis should count how many queries fall into the bins, as displayed on the x-axis.\n",
    "\n",
    "It is sufficient to prepare the data accordingly and plot it. Your plot should contain meaningful axis descriptions, but you are not required to create a label for every single point on the x-axis/y-axis (You can leave axis labels as they are plotted by `seaborn`).\n",
    "\n",
    "Print how many queries come without any relevant articles."
   ]
  },
  {
   "cell_type": "code",
   "execution_count": 90,
   "metadata": {},
   "outputs": [
    {
     "name": "stdout",
     "output_type": "stream",
     "text": [
      "Number of query without articles: 36\n"
     ]
    }
   ],
   "source": [
    "l1 = list(set(mapping[\"query_id\"]))\n",
    "empty_queries = queries[~queries.id.isin(l1)]\n",
    "print(\"Number of query without articles: {0}\".format(len(empty_queries)))"
   ]
  },
  {
   "cell_type": "code",
   "execution_count": 189,
   "metadata": {},
   "outputs": [
    {
     "data": {
      "text/html": [
       "<div>\n",
       "<style scoped>\n",
       "    .dataframe tbody tr th:only-of-type {\n",
       "        vertical-align: middle;\n",
       "    }\n",
       "\n",
       "    .dataframe tbody tr th {\n",
       "        vertical-align: top;\n",
       "    }\n",
       "\n",
       "    .dataframe thead th {\n",
       "        text-align: right;\n",
       "    }\n",
       "</style>\n",
       "<table border=\"1\" class=\"dataframe\">\n",
       "  <thead>\n",
       "    <tr style=\"text-align: right;\">\n",
       "      <th></th>\n",
       "      <th>query_id</th>\n",
       "      <th>number of articles</th>\n",
       "    </tr>\n",
       "  </thead>\n",
       "  <tbody>\n",
       "    <tr>\n",
       "      <th>0</th>\n",
       "      <td>1</td>\n",
       "      <td>14</td>\n",
       "    </tr>\n",
       "    <tr>\n",
       "      <th>1</th>\n",
       "      <td>2</td>\n",
       "      <td>8</td>\n",
       "    </tr>\n",
       "    <tr>\n",
       "      <th>2</th>\n",
       "      <td>3</td>\n",
       "      <td>6</td>\n",
       "    </tr>\n",
       "    <tr>\n",
       "      <th>3</th>\n",
       "      <td>4</td>\n",
       "      <td>2</td>\n",
       "    </tr>\n",
       "    <tr>\n",
       "      <th>4</th>\n",
       "      <td>5</td>\n",
       "      <td>4</td>\n",
       "    </tr>\n",
       "    <tr>\n",
       "      <th>...</th>\n",
       "      <td>...</td>\n",
       "      <td>...</td>\n",
       "    </tr>\n",
       "    <tr>\n",
       "      <th>106</th>\n",
       "      <td>105</td>\n",
       "      <td>0</td>\n",
       "    </tr>\n",
       "    <tr>\n",
       "      <th>107</th>\n",
       "      <td>106</td>\n",
       "      <td>0</td>\n",
       "    </tr>\n",
       "    <tr>\n",
       "      <th>108</th>\n",
       "      <td>107</td>\n",
       "      <td>0</td>\n",
       "    </tr>\n",
       "    <tr>\n",
       "      <th>109</th>\n",
       "      <td>108</td>\n",
       "      <td>0</td>\n",
       "    </tr>\n",
       "    <tr>\n",
       "      <th>110</th>\n",
       "      <td>110</td>\n",
       "      <td>0</td>\n",
       "    </tr>\n",
       "  </tbody>\n",
       "</table>\n",
       "<p>111 rows × 2 columns</p>\n",
       "</div>"
      ],
      "text/plain": [
       "     query_id  number of articles\n",
       "0           1                  14\n",
       "1           2                   8\n",
       "2           3                   6\n",
       "3           4                   2\n",
       "4           5                   4\n",
       "..        ...                 ...\n",
       "106       105                   0\n",
       "107       106                   0\n",
       "108       107                   0\n",
       "109       108                   0\n",
       "110       110                   0\n",
       "\n",
       "[111 rows x 2 columns]"
      ]
     },
     "execution_count": 189,
     "metadata": {},
     "output_type": "execute_result"
    }
   ],
   "source": [
    "statistic = mapping.groupby(\"query_id\").count().reset_index()\n",
    "statistic.columns = [\"query_id\",\"number of articles\"]\n",
    "l1 = pd.DataFrame([[a,0] for a in empty_queries.id.values],columns =[\"query_id\",\"number of articles\"])\n",
    "statistic=statistic.append(l1,ignore_index=True)\n",
    "statistic"
   ]
  },
  {
   "cell_type": "code",
   "execution_count": 89,
   "metadata": {
    "scrolled": true
   },
   "outputs": [
    {
     "data": {
      "text/plain": [
       "<seaborn.axisgrid.FacetGrid at 0x1f4d180df48>"
      ]
     },
     "execution_count": 89,
     "metadata": {},
     "output_type": "execute_result"
    },
    {
     "data": {
      "image/png": "[encoded data removed]",
      "text/plain": [
       "<Figure size 360x360 with 1 Axes>"
      ]
     },
     "metadata": {},
     "output_type": "display_data"
    }
   ],
   "source": [
    "# Create a visualization\n",
    "sns.displot(data=statistic,x=\"number of articles\", binwidth=5)"
   ]
  },
  {
   "cell_type": "markdown",
   "metadata": {},
   "source": [
    "**c)** In this exercise we are primarily interested in IR for web retrieval. In the web, we can assume that, due to its size, many documents are relevant for a query. \n",
    "\n",
    "Remove all queries for which less then 11 articles are labelled as relevant. Keep all documents  -- even if they are irrelevant for all queries. How many queries are remaining?\n",
    "\n",
    "**Use this smaller dataset for all subsequent tasks in this Homework**"
   ]
  },
  {
   "cell_type": "code",
   "execution_count": 96,
   "metadata": {},
   "outputs": [
    {
     "name": "stdout",
     "output_type": "stream",
     "text": [
      "Number of queries with more than 11 articles: 27\n"
     ]
    }
   ],
   "source": [
    "data_sm = statistic.loc[statistic[\"number of articles\"]>=11].query_id.values\n",
    "print(\"Number of queries with more than 11 articles: {0}\".format(len(data_sm)))"
   ]
  },
  {
   "cell_type": "code",
   "execution_count": 123,
   "metadata": {},
   "outputs": [],
   "source": [
    "# reduce the dataset \n",
    "queries_sm = queries.loc[queries.id.isin(data_sm)]\n",
    "mapping_sm = mapping.loc[mapping.query_id.isin(data_sm)]"
   ]
  },
  {
   "cell_type": "markdown",
   "metadata": {},
   "source": [
    "## Task 2: Information Retrieval (5 Points)\n",
    "\n",
    "**Use the subset of the data from 1c)**\n",
    "\n",
    "**a)** Preprocessing:\n",
    "Use spaCy to lemmatize the queries and documents.\n",
    "* For queries, the `query` field must be lemmatize\n",
    "* For documents, the concatenation of `title` and `abstract` must be lemmatize. We combine both fields (`title` and `abstract`) to simplify IR, by applying it on this single text for documents.\n",
    "\n",
    "Store the lemmatized text a a separate column.\n",
    "\n",
    "Finally print the preprocessed document with `id=1255`\n"
   ]
  },
  {
   "cell_type": "code",
   "execution_count": 125,
   "metadata": {},
   "outputs": [],
   "source": [
    "# concat column title with column abstract\n",
    "docs[\"text\"]=docs[\"title\"]+ \" \" + docs[\"abstract\"]"
   ]
  },
  {
   "cell_type": "code",
   "execution_count": 126,
   "metadata": {},
   "outputs": [
    {
     "name": "stderr",
     "output_type": "stream",
     "text": [
      "c:\\users\\nguyen\\pycharmprojects\\nlp4web\\venv\\lib\\site-packages\\ipykernel_launcher.py:11: SettingWithCopyWarning: \n",
      "A value is trying to be set on a copy of a slice from a DataFrame.\n",
      "Try using .loc[row_indexer,col_indexer] = value instead\n",
      "\n",
      "See the caveats in the documentation: https://pandas.pydata.org/pandas-docs/stable/user_guide/indexing.html#returning-a-view-versus-a-copy\n",
      "  # This is added back by InteractiveShellApp.init_path()\n"
     ]
    }
   ],
   "source": [
    "import spacy \n",
    "\n",
    "nlp = spacy.load('en_core_web_sm')\n",
    "\n",
    "def lemmatize(text):\n",
    "    text = text.lower()\n",
    "    doc = nlp(text)\n",
    "    result = [token.lemma_ for token in doc]\n",
    "    return \" \".join(result)\n",
    "\n",
    "queries_sm['query_lemma'] = queries_sm[\"query\"].apply(lemmatize)\n",
    "docs[\"text_lemma\"] = docs[\"text\"].apply(lemmatize)"
   ]
  },
  {
   "cell_type": "code",
   "execution_count": 127,
   "metadata": {},
   "outputs": [
    {
     "data": {
      "text/html": [
       "<div>\n",
       "<style scoped>\n",
       "    .dataframe tbody tr th:only-of-type {\n",
       "        vertical-align: middle;\n",
       "    }\n",
       "\n",
       "    .dataframe tbody tr th {\n",
       "        vertical-align: top;\n",
       "    }\n",
       "\n",
       "    .dataframe thead th {\n",
       "        text-align: right;\n",
       "    }\n",
       "</style>\n",
       "<table border=\"1\" class=\"dataframe\">\n",
       "  <thead>\n",
       "    <tr style=\"text-align: right;\">\n",
       "      <th></th>\n",
       "      <th>id</th>\n",
       "      <th>title</th>\n",
       "      <th>abstract</th>\n",
       "      <th>text</th>\n",
       "      <th>text_lemma</th>\n",
       "    </tr>\n",
       "  </thead>\n",
       "  <tbody>\n",
       "    <tr>\n",
       "      <th>1</th>\n",
       "      <td>887</td>\n",
       "      <td>COM Catalog Based on OCLC Records</td>\n",
       "      <td>The production of a COM catalog using OCLC rec...</td>\n",
       "      <td>COM Catalog Based on OCLC Records The producti...</td>\n",
       "      <td>com catalog base on oclc record the production...</td>\n",
       "    </tr>\n",
       "    <tr>\n",
       "      <th>4</th>\n",
       "      <td>675</td>\n",
       "      <td>Atom-by-Atom Typewriter Input for Computerized...</td>\n",
       "      <td>Novel features have been added to a paper tape...</td>\n",
       "      <td>Atom-by-Atom Typewriter Input for Computerized...</td>\n",
       "      <td>atom - by - atom typewriter input for computer...</td>\n",
       "    </tr>\n",
       "    <tr>\n",
       "      <th>5</th>\n",
       "      <td>1114</td>\n",
       "      <td>Analysis of Information Flows in Shipbuilding ...</td>\n",
       "      <td>Parameters of information flows are identified...</td>\n",
       "      <td>Analysis of Information Flows in Shipbuilding ...</td>\n",
       "      <td>analysis of information flow in shipbuilding a...</td>\n",
       "    </tr>\n",
       "    <tr>\n",
       "      <th>6</th>\n",
       "      <td>1128</td>\n",
       "      <td>Free Information of a Social System</td>\n",
       "      <td>The structure of the information field of a so...</td>\n",
       "      <td>Free Information of a Social System The struct...</td>\n",
       "      <td>free information of a social system the struct...</td>\n",
       "    </tr>\n",
       "    <tr>\n",
       "      <th>7</th>\n",
       "      <td>972</td>\n",
       "      <td>Graph Model for Library Information Networks</td>\n",
       "      <td>The design and study of library information ne...</td>\n",
       "      <td>Graph Model for Library Information Networks T...</td>\n",
       "      <td>graph model for library information network th...</td>\n",
       "    </tr>\n",
       "    <tr>\n",
       "      <th>...</th>\n",
       "      <td>...</td>\n",
       "      <td>...</td>\n",
       "      <td>...</td>\n",
       "      <td>...</td>\n",
       "      <td>...</td>\n",
       "    </tr>\n",
       "    <tr>\n",
       "      <th>393</th>\n",
       "      <td>49</td>\n",
       "      <td>Adaptive Information Dissemination</td>\n",
       "      <td>Computer dissemination of information offers s...</td>\n",
       "      <td>Adaptive Information Dissemination Computer di...</td>\n",
       "      <td>adaptive information dissemination computer di...</td>\n",
       "    </tr>\n",
       "    <tr>\n",
       "      <th>395</th>\n",
       "      <td>260</td>\n",
       "      <td>Classification Practice in Britain.  Report on...</td>\n",
       "      <td>The objectives of the Sub-Committee in startin...</td>\n",
       "      <td>Classification Practice in Britain.  Report on...</td>\n",
       "      <td>classification practice in britain .   report ...</td>\n",
       "    </tr>\n",
       "    <tr>\n",
       "      <th>396</th>\n",
       "      <td>148</td>\n",
       "      <td>Fair (Fast Access Information Retrieval) Proje...</td>\n",
       "      <td>I am going to describe in general terms a rese...</td>\n",
       "      <td>Fair (Fast Access Information Retrieval) Proje...</td>\n",
       "      <td>fair ( fast access information retrieval ) pro...</td>\n",
       "    </tr>\n",
       "    <tr>\n",
       "      <th>398</th>\n",
       "      <td>830</td>\n",
       "      <td>Progress in Documentation</td>\n",
       "      <td>This article reviews the state of the art in a...</td>\n",
       "      <td>Progress in Documentation This article reviews...</td>\n",
       "      <td>progress in documentation this article review ...</td>\n",
       "    </tr>\n",
       "    <tr>\n",
       "      <th>399</th>\n",
       "      <td>1294</td>\n",
       "      <td>Automatic Text Analysis</td>\n",
       "      <td>In this article the principal experiments in a...</td>\n",
       "      <td>Automatic Text Analysis In this article the pr...</td>\n",
       "      <td>automatic text analysis in this article the pr...</td>\n",
       "    </tr>\n",
       "  </tbody>\n",
       "</table>\n",
       "<p>283 rows × 5 columns</p>\n",
       "</div>"
      ],
      "text/plain": [
       "       id                                              title  \\\n",
       "1     887                  COM Catalog Based on OCLC Records   \n",
       "4     675  Atom-by-Atom Typewriter Input for Computerized...   \n",
       "5    1114  Analysis of Information Flows in Shipbuilding ...   \n",
       "6    1128                Free Information of a Social System   \n",
       "7     972       Graph Model for Library Information Networks   \n",
       "..    ...                                                ...   \n",
       "393    49                 Adaptive Information Dissemination   \n",
       "395   260  Classification Practice in Britain.  Report on...   \n",
       "396   148  Fair (Fast Access Information Retrieval) Proje...   \n",
       "398   830                          Progress in Documentation   \n",
       "399  1294                            Automatic Text Analysis   \n",
       "\n",
       "                                              abstract  \\\n",
       "1    The production of a COM catalog using OCLC rec...   \n",
       "4    Novel features have been added to a paper tape...   \n",
       "5    Parameters of information flows are identified...   \n",
       "6    The structure of the information field of a so...   \n",
       "7    The design and study of library information ne...   \n",
       "..                                                 ...   \n",
       "393  Computer dissemination of information offers s...   \n",
       "395  The objectives of the Sub-Committee in startin...   \n",
       "396  I am going to describe in general terms a rese...   \n",
       "398  This article reviews the state of the art in a...   \n",
       "399  In this article the principal experiments in a...   \n",
       "\n",
       "                                                  text  \\\n",
       "1    COM Catalog Based on OCLC Records The producti...   \n",
       "4    Atom-by-Atom Typewriter Input for Computerized...   \n",
       "5    Analysis of Information Flows in Shipbuilding ...   \n",
       "6    Free Information of a Social System The struct...   \n",
       "7    Graph Model for Library Information Networks T...   \n",
       "..                                                 ...   \n",
       "393  Adaptive Information Dissemination Computer di...   \n",
       "395  Classification Practice in Britain.  Report on...   \n",
       "396  Fair (Fast Access Information Retrieval) Proje...   \n",
       "398  Progress in Documentation This article reviews...   \n",
       "399  Automatic Text Analysis In this article the pr...   \n",
       "\n",
       "                                            text_lemma  \n",
       "1    com catalog base on oclc record the production...  \n",
       "4    atom - by - atom typewriter input for computer...  \n",
       "5    analysis of information flow in shipbuilding a...  \n",
       "6    free information of a social system the struct...  \n",
       "7    graph model for library information network th...  \n",
       "..                                                 ...  \n",
       "393  adaptive information dissemination computer di...  \n",
       "395  classification practice in britain .   report ...  \n",
       "396  fair ( fast access information retrieval ) pro...  \n",
       "398  progress in documentation this article review ...  \n",
       "399  automatic text analysis in this article the pr...  \n",
       "\n",
       "[283 rows x 5 columns]"
      ]
     },
     "execution_count": 127,
     "metadata": {},
     "output_type": "execute_result"
    }
   ],
   "source": [
    "docs_sm"
   ]
  },
  {
   "cell_type": "markdown",
   "metadata": {},
   "source": [
    "**b)** Implement the function `compute_cosine_similarity_for_all`. It shall compute the cosine similarity of *all* queries with *all* documents, and add a label describing whether the document is relevant (`True`) to the query or not (`False`). It shall return a new dataframe and represent each `query`-`document` combination as one row.\n",
    "\n",
    "**Example output:**"
   ]
  },
  {
   "cell_type": "code",
   "execution_count": null,
   "metadata": {},
   "outputs": [],
   "source": [
    "pd.DataFrame({\n",
    "    'query_id': [99,99], # The same query is compared to ...\n",
    "    'document_id': [1,2], # ... different documents. In your case to all documents.\n",
    "    'document_title': ['Learn about IR in NLP4Web', 'Learn about nursing somewhere else'], # You can omit this - document_id is sufficient\n",
    "    'query': ['Where can I learn more about IR?'] * 2, # You can omit this - query_id is sufficient\n",
    "    'similarity': [0.349, 0.025], # Cosine similarity (These values are only an example and made up)\n",
    "    'is_relevant': [True, False] # Gold Labels\n",
    "})\n",
    "# For all combinations of (query, document)"
   ]
  },
  {
   "cell_type": "markdown",
   "metadata": {},
   "source": [
    "The function takes all data (queries, document, mapping) together with the vectorizer as input.\n",
    "* The vectorizer (`vectorizer`) is a vectorizer (such as `TfidfVectorizer()` from `sklearn`) and converts all texts into vectors.\n",
    "\n",
    "The method should:\n",
    "1. Fit the vectorizer *on the documents* (based on the preprocessed column).\n",
    "2. Compute the vectors for all *queries* using the vectorizer from (1).\n",
    "3. Compute the cosine similarity between all query- and all document-vectors. You can use the function `cosine_similarity` from `sklearn`.\n",
    "4. Add label `is_relevant` describing for each combination of query-document whether the document is relevant to the query or not\n",
    "5. Return the resulting dataframe. Make sure to include at least the ids for document and query, and the two newly introduced columns (`is_relevant`, `similarity`).\n",
    "\n",
    "Apply the function to all preprocessed queries and all documents using the `TfidfVectorizer()` from `sklearn`.\n",
    "\n",
    "Finally, show the titles of the ten most similar articles together with the similarity score and relevance for the query with `id=13`."
   ]
  },
  {
   "cell_type": "code",
   "execution_count": 157,
   "metadata": {},
   "outputs": [],
   "source": [
    "# Your code here\n",
    "from sklearn.metrics.pairwise import cosine_similarity\n",
    "\n",
    "def compute_cosine_similarity_for_all(documents, queries, mapping, vectorizer):    \n",
    "    col = ['query_id','doc_id','query','doc','cosine_similarity','is_relevant']\n",
    "    result = pd.DataFrame(columns=col)\n",
    "    \n",
    "    tfidf = vectorizer.fit_transform(documents[\"text\"])\n",
    "    maps = mapping.values.tolist()\n",
    "\n",
    "    for _,row in queries.iterrows():\n",
    "        query_tfidf = vectorizer.transform([row[\"query\"]])\n",
    "        \n",
    "        for i,doc_row in documents.iterrows():\n",
    "            # caculate the the cosine similarity of the query with all documents\n",
    "            score = cosine_similarity(query_tfidf, tfidf[i]).flatten()\n",
    "            \n",
    "            query_id = row[\"id\"]\n",
    "            doc_id = documents.iloc[i,0]\n",
    "            doc =  documents.iloc[i,1] \n",
    "            is_relevant = True if [query_id,doc_id] in maps else False\n",
    "            \n",
    "            datarow = pd.Series([query_id, doc_id, row[\"query\"], doc, score, is_relevant],index=col)\n",
    "            result = result.append(datarow, ignore_index=True)\n",
    "            \n",
    "    return result"
   ]
  },
  {
   "cell_type": "code",
   "execution_count": 158,
   "metadata": {},
   "outputs": [],
   "source": [
    "from sklearn.feature_extraction.text import TfidfVectorizer\n",
    "\n",
    "vectorizer = TfidfVectorizer()\n",
    "cosine_similarity_df = compute_cosine_similarity_for_all(docs,queries_sm,mapping_sm,vectorizer)"
   ]
  },
  {
   "cell_type": "code",
   "execution_count": 161,
   "metadata": {},
   "outputs": [
    {
     "data": {
      "text/html": [
       "<div>\n",
       "<style scoped>\n",
       "    .dataframe tbody tr th:only-of-type {\n",
       "        vertical-align: middle;\n",
       "    }\n",
       "\n",
       "    .dataframe tbody tr th {\n",
       "        vertical-align: top;\n",
       "    }\n",
       "\n",
       "    .dataframe thead th {\n",
       "        text-align: right;\n",
       "    }\n",
       "</style>\n",
       "<table border=\"1\" class=\"dataframe\">\n",
       "  <thead>\n",
       "    <tr style=\"text-align: right;\">\n",
       "      <th></th>\n",
       "      <th>query_id</th>\n",
       "      <th>doc_id</th>\n",
       "      <th>query</th>\n",
       "      <th>doc</th>\n",
       "      <th>cosine_similarity</th>\n",
       "      <th>is_relevant</th>\n",
       "    </tr>\n",
       "  </thead>\n",
       "  <tbody>\n",
       "    <tr>\n",
       "      <th>848</th>\n",
       "      <td>13</td>\n",
       "      <td>611</td>\n",
       "      <td>What criteria have been developed for the obje...</td>\n",
       "      <td>What Information Dissemination Studies Imply C...</td>\n",
       "      <td>[0.26360498918113745]</td>\n",
       "      <td>False</td>\n",
       "    </tr>\n",
       "    <tr>\n",
       "      <th>1114</th>\n",
       "      <td>13</td>\n",
       "      <td>1314</td>\n",
       "      <td>What criteria have been developed for the obje...</td>\n",
       "      <td>Popper's Mystification of Objective Knowledge</td>\n",
       "      <td>[0.2462214121289444]</td>\n",
       "      <td>False</td>\n",
       "    </tr>\n",
       "    <tr>\n",
       "      <th>1084</th>\n",
       "      <td>13</td>\n",
       "      <td>59</td>\n",
       "      <td>What criteria have been developed for the obje...</td>\n",
       "      <td>Opinion Paper</td>\n",
       "      <td>[0.23846874475198515]</td>\n",
       "      <td>True</td>\n",
       "    </tr>\n",
       "    <tr>\n",
       "      <th>1197</th>\n",
       "      <td>13</td>\n",
       "      <td>135</td>\n",
       "      <td>What criteria have been developed for the obje...</td>\n",
       "      <td>Design of Information Systems and Services</td>\n",
       "      <td>[0.22359776203580325]</td>\n",
       "      <td>False</td>\n",
       "    </tr>\n",
       "    <tr>\n",
       "      <th>935</th>\n",
       "      <td>13</td>\n",
       "      <td>120</td>\n",
       "      <td>What criteria have been developed for the obje...</td>\n",
       "      <td>Design and Evaluation of Information Systems</td>\n",
       "      <td>[0.2082879646356581]</td>\n",
       "      <td>True</td>\n",
       "    </tr>\n",
       "    <tr>\n",
       "      <th>920</th>\n",
       "      <td>13</td>\n",
       "      <td>690</td>\n",
       "      <td>What criteria have been developed for the obje...</td>\n",
       "      <td>Experience with the Mechanized Chemical and Bi...</td>\n",
       "      <td>[0.20271119303334523]</td>\n",
       "      <td>False</td>\n",
       "    </tr>\n",
       "    <tr>\n",
       "      <th>946</th>\n",
       "      <td>13</td>\n",
       "      <td>147</td>\n",
       "      <td>What criteria have been developed for the obje...</td>\n",
       "      <td>Research on Users' Needs: Where is it Getting Us?</td>\n",
       "      <td>[0.19296708805650067]</td>\n",
       "      <td>False</td>\n",
       "    </tr>\n",
       "    <tr>\n",
       "      <th>844</th>\n",
       "      <td>13</td>\n",
       "      <td>1078</td>\n",
       "      <td>What criteria have been developed for the obje...</td>\n",
       "      <td>Computerized Information Retrieval Services (A...</td>\n",
       "      <td>[0.18964574087191374]</td>\n",
       "      <td>False</td>\n",
       "    </tr>\n",
       "    <tr>\n",
       "      <th>934</th>\n",
       "      <td>13</td>\n",
       "      <td>731</td>\n",
       "      <td>What criteria have been developed for the obje...</td>\n",
       "      <td>Evaluation of an SDI Service Based on the Inde...</td>\n",
       "      <td>[0.18709763391236436]</td>\n",
       "      <td>True</td>\n",
       "    </tr>\n",
       "    <tr>\n",
       "      <th>1033</th>\n",
       "      <td>13</td>\n",
       "      <td>1136</td>\n",
       "      <td>What criteria have been developed for the obje...</td>\n",
       "      <td>Data Retrieval Systems:  Specifics and Problems</td>\n",
       "      <td>[0.18193280177423624]</td>\n",
       "      <td>False</td>\n",
       "    </tr>\n",
       "    <tr>\n",
       "      <th>875</th>\n",
       "      <td>13</td>\n",
       "      <td>571</td>\n",
       "      <td>What criteria have been developed for the obje...</td>\n",
       "      <td>Automatic Abstracting and Indexing.. II. Produ...</td>\n",
       "      <td>[0.1809916055097272]</td>\n",
       "      <td>False</td>\n",
       "    </tr>\n",
       "  </tbody>\n",
       "</table>\n",
       "</div>"
      ],
      "text/plain": [
       "     query_id doc_id                                              query  \\\n",
       "848        13    611  What criteria have been developed for the obje...   \n",
       "1114       13   1314  What criteria have been developed for the obje...   \n",
       "1084       13     59  What criteria have been developed for the obje...   \n",
       "1197       13    135  What criteria have been developed for the obje...   \n",
       "935        13    120  What criteria have been developed for the obje...   \n",
       "920        13    690  What criteria have been developed for the obje...   \n",
       "946        13    147  What criteria have been developed for the obje...   \n",
       "844        13   1078  What criteria have been developed for the obje...   \n",
       "934        13    731  What criteria have been developed for the obje...   \n",
       "1033       13   1136  What criteria have been developed for the obje...   \n",
       "875        13    571  What criteria have been developed for the obje...   \n",
       "\n",
       "                                                    doc  \\\n",
       "848   What Information Dissemination Studies Imply C...   \n",
       "1114      Popper's Mystification of Objective Knowledge   \n",
       "1084                                      Opinion Paper   \n",
       "1197         Design of Information Systems and Services   \n",
       "935        Design and Evaluation of Information Systems   \n",
       "920   Experience with the Mechanized Chemical and Bi...   \n",
       "946   Research on Users' Needs: Where is it Getting Us?   \n",
       "844   Computerized Information Retrieval Services (A...   \n",
       "934   Evaluation of an SDI Service Based on the Inde...   \n",
       "1033    Data Retrieval Systems:  Specifics and Problems   \n",
       "875   Automatic Abstracting and Indexing.. II. Produ...   \n",
       "\n",
       "          cosine_similarity is_relevant  \n",
       "848   [0.26360498918113745]       False  \n",
       "1114   [0.2462214121289444]       False  \n",
       "1084  [0.23846874475198515]        True  \n",
       "1197  [0.22359776203580325]       False  \n",
       "935    [0.2082879646356581]        True  \n",
       "920   [0.20271119303334523]       False  \n",
       "946   [0.19296708805650067]       False  \n",
       "844   [0.18964574087191374]       False  \n",
       "934   [0.18709763391236436]        True  \n",
       "1033  [0.18193280177423624]       False  \n",
       "875    [0.1809916055097272]       False  "
      ]
     },
     "execution_count": 161,
     "metadata": {},
     "output_type": "execute_result"
    }
   ],
   "source": [
    "cosine_similarity_df.loc[cosine_similarity_df.query_id==13].sort_values(by=\"cosine_similarity\",ascending=False)[:11]"
   ]
  },
  {
   "cell_type": "markdown",
   "metadata": {},
   "source": [
    "# Task 3: Evaluation (6 Points)\n",
    "\n",
    "**a)** Implement the function `precision_recall` to compute precision and recall for every row from the results of 2b). Precision and recall should be computed as discussed in the lecture for the P-R curve (without interpolation): Compute both metrics for each of the steps (top $1$ results, top $2$ results, ...., top $n$ results) and for each query (not aggregated yet). Add the precision and recall values to the dataframe (or similar).\n",
    "\n",
    "The input to this function should be the resulting dataframe from 2b). Apply it on the data.\n",
    "\n",
    "Finally, show (similar to 2b) the top 10 results for the query with `id=13` together with the precision and recall metrics."
   ]
  },
  {
   "cell_type": "code",
   "execution_count": 223,
   "metadata": {},
   "outputs": [],
   "source": [
    "# Your code here\n",
    "\n",
    "def precision_recall(similarity_results):\n",
    "    col = [\"rank\",\"precision\",\"recall\"]\n",
    "    result = {}\n",
    "    \n",
    "    for i, row in queries_sm.iterrows():\n",
    "        qid = row[\"id\"]\n",
    "        df = pd.DataFrame(columns=col)\n",
    "        for rank in range(1,12):\n",
    "        \n",
    "            # retrieve 10 relevant document\n",
    "            retrieved_data = similarity_results.loc[cosine_similarity_df.query_id==qid].sort_values(by=\"cosine_similarity\", ascending=False)[:rank]\n",
    "\n",
    "            # calculate the number of tp, fp, fn\n",
    "            tp = retrieved_data.is_relevant.sum()        \n",
    "            fp = 10 - tp\n",
    "            nr_relevant_doc = int(statistic.loc[statistic[\"query_id\"]==qid][\"number of articles\"])        \n",
    "            fn = nr_relevant_doc - tp\n",
    "\n",
    "            precision = tp/(tp+fp)\n",
    "            recall = tp/(tp+fn)\n",
    "            \n",
    "            df = df.append(pd.Series([rank,precision,recall],index=col),ignore_index=True)\n",
    "        result[qid] = df\n",
    "    return result"
   ]
  },
  {
   "cell_type": "code",
   "execution_count": 238,
   "metadata": {},
   "outputs": [
    {
     "data": {
      "text/html": [
       "<div>\n",
       "<style scoped>\n",
       "    .dataframe tbody tr th:only-of-type {\n",
       "        vertical-align: middle;\n",
       "    }\n",
       "\n",
       "    .dataframe tbody tr th {\n",
       "        vertical-align: top;\n",
       "    }\n",
       "\n",
       "    .dataframe thead th {\n",
       "        text-align: right;\n",
       "    }\n",
       "</style>\n",
       "<table border=\"1\" class=\"dataframe\">\n",
       "  <thead>\n",
       "    <tr style=\"text-align: right;\">\n",
       "      <th></th>\n",
       "      <th>rank</th>\n",
       "      <th>precision</th>\n",
       "      <th>recall</th>\n",
       "    </tr>\n",
       "  </thead>\n",
       "  <tbody>\n",
       "    <tr>\n",
       "      <th>0</th>\n",
       "      <td>1.0</td>\n",
       "      <td>0.0</td>\n",
       "      <td>0.000000</td>\n",
       "    </tr>\n",
       "    <tr>\n",
       "      <th>1</th>\n",
       "      <td>2.0</td>\n",
       "      <td>0.0</td>\n",
       "      <td>0.000000</td>\n",
       "    </tr>\n",
       "    <tr>\n",
       "      <th>2</th>\n",
       "      <td>3.0</td>\n",
       "      <td>0.1</td>\n",
       "      <td>0.043478</td>\n",
       "    </tr>\n",
       "    <tr>\n",
       "      <th>3</th>\n",
       "      <td>4.0</td>\n",
       "      <td>0.1</td>\n",
       "      <td>0.043478</td>\n",
       "    </tr>\n",
       "    <tr>\n",
       "      <th>4</th>\n",
       "      <td>5.0</td>\n",
       "      <td>0.2</td>\n",
       "      <td>0.086957</td>\n",
       "    </tr>\n",
       "    <tr>\n",
       "      <th>5</th>\n",
       "      <td>6.0</td>\n",
       "      <td>0.2</td>\n",
       "      <td>0.086957</td>\n",
       "    </tr>\n",
       "    <tr>\n",
       "      <th>6</th>\n",
       "      <td>7.0</td>\n",
       "      <td>0.2</td>\n",
       "      <td>0.086957</td>\n",
       "    </tr>\n",
       "    <tr>\n",
       "      <th>7</th>\n",
       "      <td>8.0</td>\n",
       "      <td>0.2</td>\n",
       "      <td>0.086957</td>\n",
       "    </tr>\n",
       "    <tr>\n",
       "      <th>8</th>\n",
       "      <td>9.0</td>\n",
       "      <td>0.3</td>\n",
       "      <td>0.130435</td>\n",
       "    </tr>\n",
       "    <tr>\n",
       "      <th>9</th>\n",
       "      <td>10.0</td>\n",
       "      <td>0.3</td>\n",
       "      <td>0.130435</td>\n",
       "    </tr>\n",
       "    <tr>\n",
       "      <th>10</th>\n",
       "      <td>11.0</td>\n",
       "      <td>0.3</td>\n",
       "      <td>0.130435</td>\n",
       "    </tr>\n",
       "  </tbody>\n",
       "</table>\n",
       "</div>"
      ],
      "text/plain": [
       "    rank  precision    recall\n",
       "0    1.0        0.0  0.000000\n",
       "1    2.0        0.0  0.000000\n",
       "2    3.0        0.1  0.043478\n",
       "3    4.0        0.1  0.043478\n",
       "4    5.0        0.2  0.086957\n",
       "5    6.0        0.2  0.086957\n",
       "6    7.0        0.2  0.086957\n",
       "7    8.0        0.2  0.086957\n",
       "8    9.0        0.3  0.130435\n",
       "9   10.0        0.3  0.130435\n",
       "10  11.0        0.3  0.130435"
      ]
     },
     "execution_count": 238,
     "metadata": {},
     "output_type": "execute_result"
    }
   ],
   "source": [
    "pr = precision_recall(cosine_similarity_df)\n",
    "\n",
    "# Precision and recal for query 13\n",
    "pr[13]"
   ]
  },
  {
   "cell_type": "markdown",
   "metadata": {},
   "source": [
    "**b)** Implement the function `precision_recall_11_point` for 11 point interpolation. It should compute interpolated precision values for all 11 recall levels and output them as a dataframe. Choose the first sample at which the recall $\\geq$ recall_level to divide  your results into these 11 points. For example: When selecting samples for recall_level $0.1$ and you only have recall values of $[0.095, 0.112]$, then select the second point (recall $0.112$) as start for this recall level.\n",
    "\n",
    "Apply this function on all queries, given the output of 3a) and print the precision values at each recall level of the 11-point interpolation for the query with `id=13`. "
   ]
  },
  {
   "cell_type": "code",
   "execution_count": 260,
   "metadata": {},
   "outputs": [],
   "source": [
    "import numpy as np\n",
    "\n",
    "# Your code here\n",
    "def precision_recall_11_point(pr_similarity_results):\n",
    "    level =[0.0,0.1,0.2,0.3,0.4,0.5,0.6,0.7,0.8,0.9,1]\n",
    "    col =[\"recall_level\",\"interpolated_precision\"]\n",
    "    df_ = pd.DataFrame(columns=col) \n",
    "    for l in level: \n",
    "        interpolated_precision = pr_similarity_results.loc[pr_similarity_results[\"recall\"]>l][\"precision\"].max()\n",
    "        \n",
    "        df_ = df_.append(pd.Series([l,interpolated_precision],index=col),ignore_index=True)\n",
    "        df_['interpolated_precision'] = df_['interpolated_precision'].fillna(0)\n",
    "    \n",
    "    return df_"
   ]
  },
  {
   "cell_type": "code",
   "execution_count": 261,
   "metadata": {},
   "outputs": [
    {
     "name": "stdout",
     "output_type": "stream",
     "text": [
      "    recall_level  interpolated_precision\n",
      "0            0.0                     0.3\n",
      "1            0.1                     0.3\n",
      "2            0.2                     0.0\n",
      "3            0.3                     0.0\n",
      "4            0.4                     0.0\n",
      "5            0.5                     0.0\n",
      "6            0.6                     0.0\n",
      "7            0.7                     0.0\n",
      "8            0.8                     0.0\n",
      "9            0.9                     0.0\n",
      "10           1.0                     0.0\n"
     ]
    }
   ],
   "source": [
    "# Interpolated precision for query 13th\n",
    "\n",
    "interpolated_pr = precision_recall_11_point(pr[13])\n",
    "print(interpolated_pr)"
   ]
  },
  {
   "cell_type": "markdown",
   "metadata": {},
   "source": [
    "**c)** Plot the interpolated P-R curve based on all queries. (Use the result from 3b)"
   ]
  },
  {
   "cell_type": "code",
   "execution_count": 262,
   "metadata": {},
   "outputs": [],
   "source": [
    "# Your code here\n",
    "\n",
    "frames = [precision_recall_11_point(pr[id_]).drop(columns=\"recall_level\") for id_ in queries_sm[\"id\"].to_numpy()]\n",
    "result = pd.concat(frames, axis=1,ignore_index=True)"
   ]
  },
  {
   "cell_type": "code",
   "execution_count": 264,
   "metadata": {},
   "outputs": [
    {
     "name": "stdout",
     "output_type": "stream",
     "text": [
      "0     0.307407\n",
      "1     0.259259\n",
      "2     0.107407\n",
      "3     0.029630\n",
      "4     0.000000\n",
      "5     0.000000\n",
      "6     0.000000\n",
      "7     0.000000\n",
      "8     0.000000\n",
      "9     0.000000\n",
      "10    0.000000\n",
      "Name: avg_int_precision, dtype: float64\n"
     ]
    }
   ],
   "source": [
    "#calculate average from all queries\n",
    "\n",
    "result['avg_int_precision'] = result.mean(axis=1)\n",
    "print(result['avg_int_precision'])"
   ]
  },
  {
   "cell_type": "code",
   "execution_count": 273,
   "metadata": {},
   "outputs": [
    {
     "data": {
      "text/plain": [
       "<AxesSubplot:xlabel='index', ylabel='avg_int_precision'>"
      ]
     },
     "execution_count": 273,
     "metadata": {},
     "output_type": "execute_result"
    },
    {
     "data": {
      "image/png": "[encoded data removed]",
      "text/plain": [
       "<Figure size 432x288 with 1 Axes>"
      ]
     },
     "metadata": {},
     "output_type": "display_data"
    }
   ],
   "source": [
    "level =[0, 10,20,30,40,50,60,700,80,90,100]\n",
    "#sns.lineplot(data=result, y=\"avg_int_precision\",x=\"index\")\n",
    "\n",
    "sns.lineplot(data = result.reset_index(), x = 'index', y = 'avg_int_precision')"
   ]
  }
 ],
 "metadata": {
  "kernelspec": {
   "display_name": "Python 3",
   "language": "python",
   "name": "python3"
  },
  "language_info": {
   "codemirror_mode": {
    "name": "ipython",
    "version": 3
   },
   "file_extension": ".py",
   "mimetype": "text/x-python",
   "name": "python",
   "nbconvert_exporter": "python",
   "pygments_lexer": "ipython3",
   "version": "3.7.4"
  }
 },
 "nbformat": 4,
 "nbformat_minor": 2
}